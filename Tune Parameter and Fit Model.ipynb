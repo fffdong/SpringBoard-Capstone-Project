{
 "cells": [
  {
   "cell_type": "markdown",
   "metadata": {},
   "source": [
    "## Model Fitting and Parameter Tuning\n",
    "\n",
    "In summary, XGBoost is the absolute winner; Gradient Boost has great performance, but takes too long to run.\n",
    "\n",
    "4-fold Corss-Validation.\n",
    "Metric: AUC (Area under the ROC curve)"
   ]
  },
  {
   "cell_type": "code",
   "execution_count": 4,
   "metadata": {
    "collapsed": true
   },
   "outputs": [],
   "source": [
    "import os\n",
    "import pandas as pd\n",
    "import numpy as np"
   ]
  },
  {
   "cell_type": "code",
   "execution_count": 5,
   "metadata": {
    "collapsed": true
   },
   "outputs": [],
   "source": [
    "os.chdir('C:/Users/fando/Box Sync/Springboard/Capstone Project/Data')"
   ]
  },
  {
   "cell_type": "code",
   "execution_count": 6,
   "metadata": {
    "collapsed": false
   },
   "outputs": [],
   "source": [
    "dtype_dict_ready = np.load('dtype_dict_ready.npy').item()\n",
    "allData = pd.read_csv('allData_ready.txt', sep=\" \", dtype = dtype_dict_ready, encoding = \"ISO-8859-1\")"
   ]
  },
  {
   "cell_type": "code",
   "execution_count": 7,
   "metadata": {
    "collapsed": false
   },
   "outputs": [],
   "source": [
    "# book_day is not very informative at current stage\n",
    "allData.drop(['book_day'], axis=1, inplace=True)\n",
    "# allData = allData.drop_duplicates("
   ]
  },
  {
   "cell_type": "code",
   "execution_count": 5,
   "metadata": {
    "collapsed": false
   },
   "outputs": [
    {
     "data": {
      "text/plain": [
       "(286558, 124)"
      ]
     },
     "execution_count": 5,
     "metadata": {},
     "output_type": "execute_result"
    }
   ],
   "source": [
    "allData.shape"
   ]
  },
  {
   "cell_type": "code",
   "execution_count": 8,
   "metadata": {
    "collapsed": true
   },
   "outputs": [],
   "source": [
    "X = allData.drop('target', axis=1)\n",
    "# Reclass y (availability rate in 60 days) into 5 categories\n",
    "y = allData['target']\n",
    "#y = pd.cut(y, 4, labels=['1','2','3','4'])"
   ]
  },
  {
   "cell_type": "markdown",
   "metadata": {},
   "source": [
    "## Lasso\n",
    "### Cross-validation"
   ]
  },
  {
   "cell_type": "code",
   "execution_count": 12,
   "metadata": {},
   "outputs": [],
   "source": [
    "from sklearn.linear_model import LogisticRegression\n",
    "from sklearn import metrics\n",
    "from sklearn.cross_validation import cross_val_score\n",
    "from sklearn.cross_validation import train_test_split\n",
    "from sklearn.model_selection import KFold\n",
    "import operator"
   ]
  },
  {
   "cell_type": "code",
   "execution_count": 10,
   "metadata": {
    "collapsed": false
   },
   "outputs": [
    {
     "data": {
      "text/plain": [
       "array([ 0.71546945,  0.69149803,  0.7436569 ,  0.65860104,  0.71314673])"
      ]
     },
     "execution_count": 10,
     "metadata": {},
     "output_type": "execute_result"
    }
   ],
   "source": [
    "cross_val_score(LogisticRegression(penalty='l1'), X, y, scoring='roc_auc', cv=5, n_jobs=-1)"
   ]
  },
  {
   "cell_type": "code",
   "execution_count": 14,
   "metadata": {
    "collapsed": false
   },
   "outputs": [
    {
     "data": {
      "text/plain": [
       "0.70447442999999998"
      ]
     },
     "execution_count": 14,
     "metadata": {},
     "output_type": "execute_result"
    }
   ],
   "source": [
    "np.array([ 0.71546945,  0.69149803,  0.7436569 ,  0.65860104,  0.71314673]).mean()"
   ]
  },
  {
   "cell_type": "markdown",
   "metadata": {},
   "source": [
    "### Test-train split"
   ]
  },
  {
   "cell_type": "code",
   "execution_count": 21,
   "metadata": {
    "collapsed": false
   },
   "outputs": [],
   "source": [
    "X_train, X_test, y_train, y_test = train_test_split(X, y, test_size=0.3, random_state=0)"
   ]
  },
  {
   "cell_type": "code",
   "execution_count": 18,
   "metadata": {
    "collapsed": false
   },
   "outputs": [
    {
     "data": {
      "text/plain": [
       "LogisticRegression(C=1.0, class_weight=None, dual=False, fit_intercept=True,\n",
       "          intercept_scaling=1, max_iter=100, multi_class='ovr', n_jobs=1,\n",
       "          penalty='l1', random_state=None, solver='liblinear', tol=0.0001,\n",
       "          verbose=0, warm_start=False)"
      ]
     },
     "execution_count": 18,
     "metadata": {},
     "output_type": "execute_result"
    }
   ],
   "source": [
    "clf = LogisticRegression(penalty='l1')\n",
    "clf.fit(X_train, y_train)"
   ]
  },
  {
   "cell_type": "code",
   "execution_count": 19,
   "metadata": {
    "collapsed": false
   },
   "outputs": [
    {
     "data": {
      "text/plain": [
       "0.74001954215522059"
      ]
     },
     "execution_count": 19,
     "metadata": {},
     "output_type": "execute_result"
    }
   ],
   "source": [
    "clf.score(X_test, y_test)"
   ]
  },
  {
   "cell_type": "code",
   "execution_count": 20,
   "metadata": {
    "collapsed": true
   },
   "outputs": [],
   "source": [
    "y_pred = clf.predict(X_test)"
   ]
  },
  {
   "cell_type": "code",
   "execution_count": 48,
   "metadata": {
    "collapsed": false
   },
   "outputs": [],
   "source": [
    "y_pred = list(map(int, y_pred))"
   ]
  },
  {
   "cell_type": "code",
   "execution_count": 49,
   "metadata": {
    "collapsed": true
   },
   "outputs": [],
   "source": [
    "y_int = list(map(int, y_test))"
   ]
  },
  {
   "cell_type": "code",
   "execution_count": 50,
   "metadata": {
    "collapsed": false
   },
   "outputs": [
    {
     "data": {
      "text/plain": [
       "0.12828059847927398"
      ]
     },
     "execution_count": 50,
     "metadata": {},
     "output_type": "execute_result"
    }
   ],
   "source": [
    "sum(list(map(operator.sub, y_int, y_pred)))/len(y_int)"
   ]
  },
  {
   "cell_type": "markdown",
   "metadata": {},
   "source": [
    "## Stochastic Gradient Descent"
   ]
  },
  {
   "cell_type": "code",
   "execution_count": 10,
   "metadata": {},
   "outputs": [],
   "source": [
    "from sklearn.linear_model import SGDClassifier"
   ]
  },
  {
   "cell_type": "code",
   "execution_count": 17,
   "metadata": {},
   "outputs": [
    {
     "data": {
      "text/plain": [
       "array([ 0.6358725 ,  0.63436149,  0.63980129,  0.54611575,  0.57431357])"
      ]
     },
     "execution_count": 17,
     "metadata": {},
     "output_type": "execute_result"
    }
   ],
   "source": [
    "cross_val_score(SGDClassifier(penalty='l1'), X, y, scoring='roc_auc', cv=5)"
   ]
  },
  {
   "cell_type": "markdown",
   "metadata": {},
   "source": [
    "## Random Forest"
   ]
  },
  {
   "cell_type": "code",
   "execution_count": 8,
   "metadata": {
    "collapsed": true
   },
   "outputs": [],
   "source": [
    "from sklearn.ensemble import RandomForestClassifier"
   ]
  },
  {
   "cell_type": "code",
   "execution_count": 18,
   "metadata": {
    "collapsed": false
   },
   "outputs": [
    {
     "data": {
      "text/plain": [
       "0.78248512408530202"
      ]
     },
     "execution_count": 18,
     "metadata": {},
     "output_type": "execute_result"
    }
   ],
   "source": [
    "cross_val_score(RandomForestClassifier(max_depth=20, n_estimators = 75, n_jobs=-1), X, y, scoring='roc_auc', cv=4).mean()"
   ]
  },
  {
   "cell_type": "code",
   "execution_count": 9,
   "metadata": {
    "collapsed": false
   },
   "outputs": [
    {
     "name": "stdout",
     "output_type": "stream",
     "text": [
      "30 10 0.763275534632\n",
      "30 15 0.782791877748\n",
      "30 20 0.786430680922\n",
      "30 25 0.781405087699\n",
      "30 30 0.777916950733\n",
      "30 35 0.776023986414\n",
      "30 40 0.772516918143\n",
      "30 45 0.773973810838\n",
      "35 10 0.777210378232\n",
      "35 15 0.783317879384\n",
      "35 20 0.782959919378\n",
      "35 25 0.780824591007\n",
      "35 30 0.773497086865\n",
      "35 35 0.771065598894\n",
      "35 40 0.772072390697\n",
      "35 45 0.776852113063\n",
      "40 10 0.775926103045\n",
      "40 15 0.791829856963\n",
      "40 20 0.778002977831\n",
      "40 25 0.77810481773\n",
      "40 30 0.779550450258\n",
      "40 35 0.776256428578\n",
      "40 40 0.775786840224\n",
      "40 45 0.774935283625\n",
      "45 10 0.777327462626\n",
      "45 15 0.787682979614\n",
      "45 20 0.777340638965\n",
      "45 25 0.778564095249\n",
      "45 30 0.777526991538\n",
      "45 35 0.779606055962\n",
      "45 40 0.775516977888\n",
      "45 45 0.777252596271\n",
      "50 10 0.770568704373\n",
      "50 15 0.786928539981\n",
      "50 20 0.788957469616\n",
      "50 25 0.778455508532\n",
      "50 30 0.78177628917\n",
      "50 35 0.775065677057\n",
      "50 40 0.773184379214\n",
      "50 45 0.780792076615\n",
      "55 10 0.770085711137\n",
      "55 15 0.783798682933\n",
      "55 20 0.792280587208\n",
      "55 25 0.773078568215\n",
      "55 30 0.775889540643\n",
      "55 35 0.775856154855\n",
      "55 40 0.779346816862\n",
      "55 45 0.773320584085\n",
      "60 10 0.772889805985\n",
      "60 15 0.78512135177\n",
      "60 20 0.785619126446\n",
      "60 25 0.786774762544\n",
      "60 30 0.783982420418\n",
      "60 35 0.779219954002\n",
      "60 40 0.77999105214\n",
      "60 45 0.779234531641\n",
      "65 10 0.781607812008\n",
      "65 15 0.784563651353\n",
      "65 20 0.790318599974\n",
      "65 25 0.782691610143\n",
      "65 30 0.783681152576\n",
      "65 35 0.782448090509\n",
      "65 40 0.782231039906\n",
      "65 45 0.776083743021\n",
      "70 10 0.778381267842\n",
      "70 15 0.787195430796\n",
      "70 20 0.786106838541\n",
      "70 25 0.784471247807\n",
      "70 30 0.774873802341\n",
      "70 35 0.779416307991\n",
      "70 40 0.783934190663\n",
      "70 45 0.778707228595\n",
      "75 10 0.780493221272\n",
      "75 15 0.785436786166\n",
      "75 20 0.785257216342\n",
      "75 25 0.78103745568\n",
      "75 30 0.783734948087\n",
      "75 35 0.785596803142\n",
      "75 40 0.783317485146\n",
      "75 45 0.782063815165\n"
     ]
    }
   ],
   "source": [
    "for k in list(range(30,80,5)):\n",
    "    for d in list(range(10, 50, 5)):\n",
    "        auc = cross_val_score(RandomForestClassifier(max_depth=d, n_estimators = k, n_jobs=-1), X, y, scoring='roc_auc', cv=4).mean()\n",
    "        print(k, d, auc)\n",
    "# Choose k=75, d=20"
   ]
  },
  {
   "cell_type": "markdown",
   "metadata": {},
   "source": [
    "## Neural Network "
   ]
  },
  {
   "cell_type": "code",
   "execution_count": 19,
   "metadata": {},
   "outputs": [],
   "source": [
    "from sklearn.neural_network import MLPClassifier"
   ]
  },
  {
   "cell_type": "code",
   "execution_count": 20,
   "metadata": {},
   "outputs": [
    {
     "name": "stdout",
     "output_type": "stream",
     "text": [
      "Hidden layer 80 0.735707632707\n",
      "Hidden layer 100 0.728133481026\n",
      "Hidden layer 120 0.767088611988\n",
      "Hidden layer 140 0.757766541289\n",
      "Hidden layer 160 0.752106550008\n",
      "Hidden layer 180 0.756451038877\n",
      "Hidden layer 200 0.760403292035\n",
      "Hidden layer 220 0.733977041521\n",
      "Hidden layer 240 0.766025457636\n",
      "Hidden layer 260 0.78022291826\n",
      "Hidden layer 280 0.747326213614\n"
     ]
    }
   ],
   "source": [
    "for k in list(range(80, 300, 20)):\n",
    "    print('Hidden layer', k, \n",
    "          cross_val_score(MLPClassifier(activation='logistic', solver = 'adam', hidden_layer_sizes=k), X, y, scoring='roc_auc', cv=4).mean())"
   ]
  },
  {
   "cell_type": "markdown",
   "metadata": {},
   "source": [
    "## Gradient Boosting\n",
    "### Great performance. But take too long to run."
   ]
  },
  {
   "cell_type": "code",
   "execution_count": 15,
   "metadata": {},
   "outputs": [],
   "source": [
    "from sklearn.ensemble import GradientBoostingClassifier"
   ]
  },
  {
   "cell_type": "code",
   "execution_count": 29,
   "metadata": {},
   "outputs": [
    {
     "data": {
      "text/plain": [
       "0.81021767736920258"
      ]
     },
     "execution_count": 29,
     "metadata": {},
     "output_type": "execute_result"
    }
   ],
   "source": [
    "cross_val_score(GradientBoostingClassifier(n_estimators = 80, max_depth = 20), X, y, scoring='roc_auc', cv=5).mean()"
   ]
  },
  {
   "cell_type": "code",
   "execution_count": 14,
   "metadata": {},
   "outputs": [],
   "source": [
    "#for k in list(range(80,160,20)):\n",
    "#    for d in list(range(10, 30, 5)):\n",
    "#        auc = cross_val_score(GradientBoostingClassifier(max_depth=d, n_estimators = k), X, y, scoring='roc_auc', cv=4).mean()\n",
    "#        print(k, d, auc)"
   ]
  },
  {
   "cell_type": "markdown",
   "metadata": {},
   "source": [
    "Each model takes 4~5 hours to fit. Part of the result as follows:\n",
    "\n",
    "n_estimator /      max_depth   /  auc\n",
    "\n",
    "80 / 10 / 0.916182837347\n",
    "\n",
    "80 / 15 / 0.904932929805\n",
    "\n",
    "80 / 20 / 0.884332661843\n",
    "\n",
    "80 / 25 / 0.842941079002\n",
    "\n",
    "100 / 10 / 0.931677630294\n",
    "\n",
    "100 / 15 / 0.920015544293\n",
    "\n",
    "100 / 20 / 0.896099175263"
   ]
  },
  {
   "cell_type": "markdown",
   "metadata": {},
   "source": [
    "## Extra Tree"
   ]
  },
  {
   "cell_type": "code",
   "execution_count": 30,
   "metadata": {},
   "outputs": [],
   "source": [
    "from sklearn.ensemble import ExtraTreesClassifier"
   ]
  },
  {
   "cell_type": "code",
   "execution_count": 31,
   "metadata": {},
   "outputs": [
    {
     "name": "stdout",
     "output_type": "stream",
     "text": [
      "60 10 0.767212973866\n",
      "60 15 0.770796047573\n",
      "60 20 0.759181343776\n",
      "60 25 0.751967265095\n",
      "70 10 0.770806067879\n",
      "70 15 0.776094021291\n",
      "70 20 0.758918227616\n",
      "70 25 0.749162845849\n",
      "80 10 0.777557665921\n",
      "80 15 0.769113365841\n",
      "80 20 0.764171339524\n",
      "80 25 0.753994470822\n",
      "90 10 0.773093230655\n",
      "90 15 0.774660727016\n",
      "90 20 0.759655421914\n",
      "90 25 0.754216057858\n"
     ]
    }
   ],
   "source": [
    "for k in list(range(60,100,10)):\n",
    "    for d in list(range(10, 30, 5)):\n",
    "        auc = cross_val_score(ExtraTreesClassifier(max_depth=d, n_estimators = k, n_jobs=-1), X, y, scoring='roc_auc', cv=4).mean()\n",
    "        print(k, d, auc)"
   ]
  },
  {
   "cell_type": "markdown",
   "metadata": {},
   "source": [
    "## Support Vector Classifier"
   ]
  },
  {
   "cell_type": "code",
   "execution_count": 7,
   "metadata": {
    "collapsed": true
   },
   "outputs": [],
   "source": [
    "from sklearn.svm import SVC"
   ]
  },
  {
   "cell_type": "code",
   "execution_count": null,
   "metadata": {},
   "outputs": [],
   "source": [
    "for k in ['rbf', 'linear', 'sigmoid']:\n",
    "    print(k, cross_val_score(SVC(kernel = k), X, y, scoring='roc_auc', cv=4).mean())"
   ]
  },
  {
   "cell_type": "markdown",
   "metadata": {},
   "source": [
    "## AdaBoost"
   ]
  },
  {
   "cell_type": "code",
   "execution_count": 8,
   "metadata": {},
   "outputs": [],
   "source": [
    "from sklearn.ensemble import AdaBoostClassifier"
   ]
  },
  {
   "cell_type": "code",
   "execution_count": 12,
   "metadata": {},
   "outputs": [
    {
     "name": "stdout",
     "output_type": "stream",
     "text": [
      "n_estimator 80 0.710933042073\n",
      "n_estimator 100 0.718267452239\n",
      "n_estimator 120 0.7265857633\n",
      "n_estimator 140 0.728670378638\n",
      "n_estimator 160 0.73303407939\n",
      "n_estimator 180 0.737225616036\n",
      "n_estimator 200 0.740981516158\n",
      "n_estimator 220 0.744554854985\n",
      "n_estimator 240 0.746123075021\n",
      "n_estimator 260 0.748678187266\n",
      "n_estimator 280 0.752256992835\n"
     ]
    }
   ],
   "source": [
    "for k in list(range(80, 300, 20)):\n",
    "    print('n_estimator', k, \n",
    "        cross_val_score(AdaBoostClassifier(n_estimators = k), X, y, scoring='roc_auc', cv=4).mean())"
   ]
  },
  {
   "cell_type": "code",
   "execution_count": 13,
   "metadata": {},
   "outputs": [
    {
     "name": "stdout",
     "output_type": "stream",
     "text": [
      "n_estimator 300 0.755230309208\n",
      "n_estimator 320 0.755315128827\n",
      "n_estimator 340 0.757435136425\n",
      "n_estimator 360 0.760370489708\n",
      "n_estimator 380 0.762245249205\n",
      "n_estimator 400 0.765559622379\n",
      "n_estimator 420 0.766644567065\n",
      "n_estimator 440 0.768595058263\n",
      "n_estimator 460 0.771087887791\n",
      "n_estimator 480 0.773205399469\n"
     ]
    }
   ],
   "source": [
    "for k in list(range(300, 500, 20)):\n",
    "    print('n_estimator', k, \n",
    "        cross_val_score(AdaBoostClassifier(n_estimators = k), X, y, scoring='roc_auc', cv=4).mean())"
   ]
  },
  {
   "cell_type": "markdown",
   "metadata": {},
   "source": [
    "## XGBoost\n",
    "### The Winner."
   ]
  },
  {
   "cell_type": "code",
   "execution_count": 1,
   "metadata": {},
   "outputs": [],
   "source": [
    "import xgboost as xgb"
   ]
  },
  {
   "cell_type": "code",
   "execution_count": 2,
   "metadata": {},
   "outputs": [],
   "source": [
    "def to_int(df, var):\n",
    "    df[var] = df[var].astype(int)\n",
    "    return df"
   ]
  },
  {
   "cell_type": "code",
   "execution_count": 9,
   "metadata": {},
   "outputs": [],
   "source": [
    "for var in ['book_month', 'book_year', 'book_weekday']:\n",
    "    X = to_int(X, var)"
   ]
  },
  {
   "cell_type": "code",
   "execution_count": 13,
   "metadata": {},
   "outputs": [
    {
     "name": "stdout",
     "output_type": "stream",
     "text": [
      "n_estimator 80 max_depth 10 0.916437200856\n",
      "n_estimator 80 max_depth 15 0.919435447259\n",
      "n_estimator 80 max_depth 20 0.902666818388\n",
      "n_estimator 80 max_depth 25 0.885486827609\n",
      "n_estimator 100 max_depth 10 0.932993446032\n",
      "n_estimator 100 max_depth 15 0.929901669888\n",
      "n_estimator 100 max_depth 20 0.913411131735\n",
      "n_estimator 100 max_depth 25 0.90185555106\n",
      "n_estimator 120 max_depth 10 0.942786633958\n",
      "n_estimator 120 max_depth 15 0.936951855256\n",
      "n_estimator 120 max_depth 20 0.921449752209\n",
      "n_estimator 120 max_depth 25 0.910276201444\n",
      "n_estimator 140 max_depth 10 0.951236838343\n",
      "n_estimator 140 max_depth 15 0.94252209576\n",
      "n_estimator 140 max_depth 20 0.92632364823\n",
      "n_estimator 140 max_depth 25 0.918085916629\n",
      "n_estimator 160 max_depth 10 0.958515959299\n",
      "n_estimator 160 max_depth 15 0.949059410791\n",
      "n_estimator 160 max_depth 20 0.9319685603\n",
      "n_estimator 160 max_depth 25 0.923289436204\n"
     ]
    }
   ],
   "source": [
    "for k in list(range(80, 180, 20)):\n",
    "    for d in list(range(10, 30, 5)):\n",
    "        print('n_estimator', k, 'max_depth', d, \n",
    "            cross_val_score(xgb.XGBClassifier(n_estimators= k, max_depth= d, objective= 'binary:logistic', n_jobs= -1), X, y, scoring='roc_auc', cv=4).mean())"
   ]
  }
 ],
 "metadata": {
  "kernelspec": {
   "display_name": "Python 3",
   "language": "python",
   "name": "python3"
  },
  "language_info": {
   "codemirror_mode": {
    "name": "ipython",
    "version": 3
   },
   "file_extension": ".py",
   "mimetype": "text/x-python",
   "name": "python",
   "nbconvert_exporter": "python",
   "pygments_lexer": "ipython3",
   "version": "3.6.0"
  }
 },
 "nbformat": 4,
 "nbformat_minor": 2
}
