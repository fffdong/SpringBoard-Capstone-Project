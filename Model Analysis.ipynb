{
 "cells": [
  {
   "cell_type": "code",
   "execution_count": 26,
   "metadata": {},
   "outputs": [],
   "source": [
    "import os\n",
    "import pandas as pd\n",
    "import numpy as np\n",
    "import xgboost as xgb\n",
    "from sklearn import metrics\n",
    "import matplotlib.pyplot as plt\n",
    "\n",
    "os.chdir('C:/Users/fando/Box Sync/Springboard/Capstone Project/Data')"
   ]
  },
  {
   "cell_type": "code",
   "execution_count": 2,
   "metadata": {},
   "outputs": [],
   "source": [
    "dtype_dict_ready = np.load('dtype_dict_ready.npy').item()\n",
    "allData = pd.read_csv('allData_ready.txt', sep=\" \", dtype = dtype_dict_ready, encoding = \"ISO-8859-1\")\n",
    "allData.drop(['book_day'], axis=1, inplace=True)"
   ]
  },
  {
   "cell_type": "markdown",
   "metadata": {},
   "source": [
    "# I. Predict the future\n",
    "Train a model using 2015 and 2016's data and predict 2017's availability.\n",
    "\n",
    "Based on what we learned from Model Fitting, we will use XGBoost Classifier here.\n",
    "\n",
    "### Predict 2017 Quarter 1"
   ]
  },
  {
   "cell_type": "code",
   "execution_count": 96,
   "metadata": {},
   "outputs": [],
   "source": [
    "dat_1516 = allData[allData['book_year']!='2017']\n",
    "dat_17 = allData[allData['book_year']=='2017']"
   ]
  },
  {
   "cell_type": "code",
   "execution_count": 97,
   "metadata": {},
   "outputs": [],
   "source": [
    "X = dat_1516.drop('target', axis=1)\n",
    "y = dat_1516['target']"
   ]
  },
  {
   "cell_type": "code",
   "execution_count": 5,
   "metadata": {},
   "outputs": [],
   "source": [
    "test = dat_17.loc[(dat_17['book_month'].isin(['1','2','3']))]\n",
    "X_test = test.drop('target', axis=1)\n",
    "y_test = test['target']"
   ]
  },
  {
   "cell_type": "code",
   "execution_count": 7,
   "metadata": {},
   "outputs": [],
   "source": [
    "clf = xgb.XGBClassifier(n_estimators= 160, max_depth= 10, objective= 'binary:logistic', n_jobs= -1)"
   ]
  },
  {
   "cell_type": "code",
   "execution_count": 8,
   "metadata": {},
   "outputs": [],
   "source": [
    "def to_int(df, var):\n",
    "    df[var] = df[var].astype(int)\n",
    "    return df\n",
    "for var in ['book_month', 'book_year', 'book_weekday']:\n",
    "    X = to_int(X, var)\n",
    "    X_test = to_int(X_test, var)"
   ]
  },
  {
   "cell_type": "code",
   "execution_count": 9,
   "metadata": {},
   "outputs": [
    {
     "data": {
      "text/plain": [
       "XGBClassifier(base_score=0.5, booster='gbtree', colsample_bylevel=1,\n",
       "       colsample_bytree=1, gamma=0, learning_rate=0.1, max_delta_step=0,\n",
       "       max_depth=10, min_child_weight=1, missing=None, n_estimators=160,\n",
       "       n_jobs=-1, nthread=None, objective='binary:logistic',\n",
       "       random_state=0, reg_alpha=0, reg_lambda=1, scale_pos_weight=1,\n",
       "       seed=None, silent=True, subsample=1)"
      ]
     },
     "execution_count": 9,
     "metadata": {},
     "output_type": "execute_result"
    }
   ],
   "source": [
    "clf.fit(X, y)"
   ]
  },
  {
   "cell_type": "code",
   "execution_count": 11,
   "metadata": {},
   "outputs": [],
   "source": [
    "y_pred = clf.predict_proba(X_test)\n",
    "y_pred = pd.DataFrame(y_pred)"
   ]
  },
  {
   "cell_type": "markdown",
   "metadata": {},
   "source": [
    "XGBoost Classifier returns the predicted probability of whether a listing will be avialable on a specific date. We need to set a threshold to turn that into a binary variable (available vs. not available). Loop over possible threshold values and find the one that maximizes the accuracy score."
   ]
  },
  {
   "cell_type": "code",
   "execution_count": 30,
   "metadata": {},
   "outputs": [],
   "source": [
    "lst = []\n",
    "for i in np.arange(0.5, 1.0, 0.05):\n",
    "    y_pred_bin = y_pred.iloc[:,1]>i\n",
    "    score = metrics.accuracy_score(y_test, y_pred_bin)\n",
    "    lst.append([i,score])\n",
    "lst = pd.DataFrame(lst)"
   ]
  },
  {
   "cell_type": "code",
   "execution_count": 35,
   "metadata": {},
   "outputs": [
    {
     "data": {
      "image/png": "[encoded data removed]",
      "text/plain": [
       "<matplotlib.figure.Figure at 0x204b4e8f978>"
      ]
     },
     "metadata": {},
     "output_type": "display_data"
    }
   ],
   "source": [
    "plt.plot(lst.iloc[:,0], lst.iloc[:,1],'-o')\n",
    "plt.show()"
   ]
  },
  {
   "cell_type": "markdown",
   "metadata": {},
   "source": [
    "As the plot above shows, we obtain highest accuracy score when the threshold = 0.7.\n",
    "\n",
    "Thus, using 16 months of Airbnb data (September 2015 ~ December 2016) as the train set, we are able to achieve an accuracy score of 0.96 when predicting 2017 Q1.\n",
    "\n",
    "### Predict 2017 Quarter 2\n",
    "Now let's use the predicted value of 2017 Q1 as part of the train set and predict 2017 Q2."
   ]
  },
  {
   "cell_type": "code",
   "execution_count": 47,
   "metadata": {},
   "outputs": [],
   "source": [
    "# Append 2017 Q1's predicted values to the train set.\n",
    "y_pred_Q1 = y_pred.iloc[:,1]>0.7\n",
    "y = y.append(y_pred_Q1, ignore_index=True)\n",
    "X = pd.concat([X, X_test])"
   ]
  },
  {
   "cell_type": "code",
   "execution_count": 49,
   "metadata": {},
   "outputs": [],
   "source": [
    "# Set up the test set.\n",
    "test = dat_17.loc[(dat_17['book_month'].isin(['4','5','6']))]\n",
    "X_test = test.drop('target', axis=1)\n",
    "y_test = test['target']\n",
    "for var in ['book_month', 'book_year', 'book_weekday']:\n",
    "    X_test = to_int(X_test, var)"
   ]
  },
  {
   "cell_type": "code",
   "execution_count": 50,
   "metadata": {},
   "outputs": [
    {
     "data": {
      "text/plain": [
       "XGBClassifier(base_score=0.5, booster='gbtree', colsample_bylevel=1,\n",
       "       colsample_bytree=1, gamma=0, learning_rate=0.1, max_delta_step=0,\n",
       "       max_depth=10, min_child_weight=1, missing=None, n_estimators=160,\n",
       "       n_jobs=-1, nthread=None, objective='binary:logistic',\n",
       "       random_state=0, reg_alpha=0, reg_lambda=1, scale_pos_weight=1,\n",
       "       seed=None, silent=True, subsample=1)"
      ]
     },
     "execution_count": 50,
     "metadata": {},
     "output_type": "execute_result"
    }
   ],
   "source": [
    "clf.fit(X, y)"
   ]
  },
  {
   "cell_type": "code",
   "execution_count": 54,
   "metadata": {},
   "outputs": [
    {
     "data": {
      "text/plain": [
       "0.96285106859124991"
      ]
     },
     "execution_count": 54,
     "metadata": {},
     "output_type": "execute_result"
    }
   ],
   "source": [
    "clf.score(X_test, y_test)"
   ]
  },
  {
   "cell_type": "code",
   "execution_count": 57,
   "metadata": {},
   "outputs": [
    {
     "data": {
      "text/plain": [
       "0.94654246391406516"
      ]
     },
     "execution_count": 57,
     "metadata": {},
     "output_type": "execute_result"
    }
   ],
   "source": [
    "y_pred = clf.predict_proba(X_test)\n",
    "y_pred = pd.DataFrame(y_pred)   \n",
    "y_pred_bin = y_pred.iloc[:,1]>0.7\n",
    "metrics.accuracy_score(y_test, y_pred_bin)"
   ]
  },
  {
   "cell_type": "markdown",
   "metadata": {},
   "source": [
    "This time, the optimal threshold is 0.5, which gives us an accuracy score of 0.96. It seems like optimal threshold varies for different training/test set. \n",
    "\n",
    "Question: How to set a threshold? (Conservativeness, etc.)\n",
    "\n",
    "In both Q1 and Q2 prediction, we are able to achieve an accuracy score in the high 90s, which sounds a little bit too good to be true. Let's investigate it further.\n",
    "\n",
    "### Dig deeper into the high accuracy score\n",
    "\n",
    "This time, let's take September 2015 ~ December 2016 as train, and January~June 2017 as test."
   ]
  },
  {
   "cell_type": "code",
   "execution_count": 98,
   "metadata": {},
   "outputs": [
    {
     "data": {
      "text/plain": [
       "0.9563342166093477"
      ]
     },
     "execution_count": 98,
     "metadata": {},
     "output_type": "execute_result"
    }
   ],
   "source": [
    "X = dat_1516.drop('target', axis=1)\n",
    "y = dat_1516['target']\n",
    "test = dat_17.loc[(dat_17['book_month'].isin(['1','2','3','4','5','6']))]\n",
    "X_test = test.drop('target', axis=1)\n",
    "y_test = test['target']\n",
    "for var in ['book_month', 'book_year', 'book_weekday']:\n",
    "    X = to_int(X, var)\n",
    "    X_test = to_int(X_test, var)\n",
    "clf.fit(X, y)\n",
    "clf.score(X_test, y_test)"
   ]
  },
  {
   "cell_type": "markdown",
   "metadata": {},
   "source": [
    "If one class is in great majority, we can naturally get a high accuracy score by predicting everything to be the majority class."
   ]
  },
  {
   "cell_type": "code",
   "execution_count": 99,
   "metadata": {},
   "outputs": [],
   "source": [
    "y_pred = clf.predict_proba(X_test)\n",
    "y_pred = pd.DataFrame(y_pred)   \n",
    "y_pred_bin = y_pred.iloc[:,1]>0.5"
   ]
  },
  {
   "cell_type": "code",
   "execution_count": 101,
   "metadata": {},
   "outputs": [
    {
     "data": {
      "text/plain": [
       "0.71940012403450415"
      ]
     },
     "execution_count": 101,
     "metadata": {},
     "output_type": "execute_result"
    }
   ],
   "source": [
    "y_test[y_test==0].count()/len(y_test)"
   ]
  },
  {
   "cell_type": "markdown",
   "metadata": {},
   "source": [
    "In our test set, 72% of the observations are 'not available', the remaining 28% are 'available'.\n",
    "\n",
    "Then how's our accuracy rate in the 28%?"
   ]
  },
  {
   "cell_type": "code",
   "execution_count": 146,
   "metadata": {},
   "outputs": [],
   "source": [
    "y_all = y_test.reset_index()\n",
    "y_all['pred'] = y_pred_bin"
   ]
  },
  {
   "cell_type": "code",
   "execution_count": 84,
   "metadata": {},
   "outputs": [
    {
     "data": {
      "text/plain": [
       "0.92937512557765722"
      ]
     },
     "execution_count": 84,
     "metadata": {},
     "output_type": "execute_result"
    }
   ],
   "source": [
    "# accuracy rate in the 28%\n",
    "y_all.loc[(y_all['target']==1) & (y_all['pred']==1)]['target'].count()/y_test[y_test==1].count()"
   ]
  },
  {
   "cell_type": "code",
   "execution_count": 85,
   "metadata": {},
   "outputs": [
    {
     "data": {
      "text/plain": [
       "0.96684952978056427"
      ]
     },
     "execution_count": 85,
     "metadata": {},
     "output_type": "execute_result"
    }
   ],
   "source": [
    "# accuracy rate in the 72%\n",
    "y_all.loc[(y_all['target']==0) & (y_all['pred']==0)]['target'].count()/y_test[y_test==0].count()"
   ]
  },
  {
   "cell_type": "markdown",
   "metadata": {},
   "source": [
    "The accuracy rate in the 'available' class is 93% and that in the 'unavailable' class is 96.7%. Uneven proportion of two classes is not the reason behind our high accuracy score.\n",
    "\n",
    "Question: Other explanations behind high accuracy?"
   ]
  },
  {
   "cell_type": "markdown",
   "metadata": {},
   "source": [
    "# II. Projected Value of a Listing"
   ]
  },
  {
   "cell_type": "code",
   "execution_count": 86,
   "metadata": {},
   "outputs": [],
   "source": [
    "later_use = pd.read_csv('later.txt', sep=\" \", dtype = dtype_dict_ready, encoding = \"ISO-8859-1\")"
   ]
  },
  {
   "cell_type": "code",
   "execution_count": 104,
   "metadata": {},
   "outputs": [],
   "source": [
    "allData_avail = pd.concat([allData, later_use], axis=1)\n",
    "dat_17_avail = allData_avail[allData_avail['book_year']=='2017']"
   ]
  },
  {
   "cell_type": "code",
   "execution_count": 105,
   "metadata": {},
   "outputs": [],
   "source": [
    "test_avail = dat_17_avail.loc[(dat_17_avail['book_month'].isin(['1','2','3','4','5','6']))]"
   ]
  },
  {
   "cell_type": "code",
   "execution_count": 150,
   "metadata": {},
   "outputs": [],
   "source": [
    "y_all = pd.concat([y_all, test_avail[['price','listing_id']].reset_index()], axis=1, ignore_index=True)\n",
    "y_all.drop([0,3], axis=1, inplace=True)\n",
    "y_all = y_all.rename(index=str, columns={1: \"true\", 2: \"pred\", 4:\"price\", 5:\"listing_id\"})"
   ]
  },
  {
   "cell_type": "markdown",
   "metadata": {},
   "source": [
    "Reverse the 0/1 mapping of target variable. Let y=0 when 'available' and y=1 when 'unavailable', so that it is easier for listing value calculation."
   ]
  },
  {
   "cell_type": "code",
   "execution_count": 151,
   "metadata": {},
   "outputs": [],
   "source": [
    "di = {1: \"a\", 0: \"b\"}\n",
    "y_all = y_all.replace({\"pred\": di})"
   ]
  },
  {
   "cell_type": "code",
   "execution_count": 152,
   "metadata": {},
   "outputs": [],
   "source": [
    "di2 = {\"a\": 0, \"b\":1}\n",
    "y_all = y_all.replace({\"pred\": di2})"
   ]
  },
  {
   "cell_type": "code",
   "execution_count": 153,
   "metadata": {},
   "outputs": [],
   "source": [
    "y_all['revenue'] = y_all['pred']*y_all['price']"
   ]
  },
  {
   "cell_type": "markdown",
   "metadata": {},
   "source": [
    "Calculate each listing's projected value in the first half of 2017."
   ]
  },
  {
   "cell_type": "code",
   "execution_count": 158,
   "metadata": {},
   "outputs": [],
   "source": [
    "revenue_id = y_all.groupby('listing_id')['revenue'].sum().reset_index()"
   ]
  },
  {
   "cell_type": "code",
   "execution_count": 167,
   "metadata": {},
   "outputs": [
    {
     "data": {
      "text/html": [
       "<div>\n",
       "<table border=\"1\" class=\"dataframe\">\n",
       "  <thead>\n",
       "    <tr style=\"text-align: right;\">\n",
       "      <th></th>\n",
       "      <th>listing_id</th>\n",
       "      <th>revenue</th>\n",
       "    </tr>\n",
       "  </thead>\n",
       "  <tbody>\n",
       "    <tr>\n",
       "      <th>0</th>\n",
       "      <td>5858</td>\n",
       "      <td>0.000000</td>\n",
       "    </tr>\n",
       "    <tr>\n",
       "      <th>1</th>\n",
       "      <td>7918</td>\n",
       "      <td>2252.583607</td>\n",
       "    </tr>\n",
       "    <tr>\n",
       "      <th>2</th>\n",
       "      <td>21334</td>\n",
       "      <td>20493.622951</td>\n",
       "    </tr>\n",
       "    <tr>\n",
       "      <th>3</th>\n",
       "      <td>21914</td>\n",
       "      <td>1982.164948</td>\n",
       "    </tr>\n",
       "    <tr>\n",
       "      <th>4</th>\n",
       "      <td>23540</td>\n",
       "      <td>30152.086957</td>\n",
       "    </tr>\n",
       "  </tbody>\n",
       "</table>\n",
       "</div>"
      ],
      "text/plain": [
       "   listing_id       revenue\n",
       "0        5858      0.000000\n",
       "1        7918   2252.583607\n",
       "2       21334  20493.622951\n",
       "3       21914   1982.164948\n",
       "4       23540  30152.086957"
      ]
     },
     "execution_count": 167,
     "metadata": {},
     "output_type": "execute_result"
    }
   ],
   "source": [
    "revenue_id.head()"
   ]
  },
  {
   "cell_type": "code",
   "execution_count": 161,
   "metadata": {},
   "outputs": [],
   "source": [
    "dat_17_avail = pd.merge(dat_17_avail, revenue_id, on=['listing_id'], how='left')"
   ]
  },
  {
   "cell_type": "code",
   "execution_count": 166,
   "metadata": {},
   "outputs": [
    {
     "data": {
      "image/png": "[encoded data removed]",
      "text/plain": [
       "<matplotlib.figure.Figure at 0x204a946c630>"
      ]
     },
     "metadata": {},
     "output_type": "display_data"
    }
   ],
   "source": [
    "# Take a look at the distribution of listings' revenue.\n",
    "n, bins, patches = plt.hist(revenue_id[revenue_id['revenue']<=100000]['revenue'], 20)\n",
    "plt.xlabel('Total Revenue')\n",
    "plt.show()"
   ]
  }
 ],
 "metadata": {
  "kernelspec": {
   "display_name": "Python 3",
   "language": "python",
   "name": "python3"
  },
  "language_info": {
   "codemirror_mode": {
    "name": "ipython",
    "version": 3
   },
   "file_extension": ".py",
   "mimetype": "text/x-python",
   "name": "python",
   "nbconvert_exporter": "python",
   "pygments_lexer": "ipython3",
   "version": "3.6.0"
  }
 },
 "nbformat": 4,
 "nbformat_minor": 2
}
