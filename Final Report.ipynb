{
 "cells": [
  {
   "cell_type": "markdown",
   "metadata": {},
   "source": [
    "# Predict Airbnb Listings' Availability in San Francisco\n",
    "*Springboard Capstone Project I*\n",
    "\n",
    "*Fan Dong*"
   ]
  },
  {
   "cell_type": "markdown",
   "metadata": {},
   "source": [
    "## I. Introduction"
   ]
  },
  {
   "cell_type": "markdown",
   "metadata": {},
   "source": [
    "This project aims to build a machine learning model that predicts the availability of Airbnb listings in San Francisco. Given a listing and a range of dates, the model will be able to tell you whether this place will be available on these dates. \n",
    "\n",
    "The model makes use of detailed listing information, as well as their daily availability info from September 2015 to September 2017. With careful data processing, feature engineering and model fitting, the model achieves relatively high accuracy and provides many interesting insights regarding Airbnb and the 'Accommodation Sharing Economy'. \n",
    "\n",
    "Of course, we are not building model for the sake of achieving high accuracy score. The model has many real-life applications. For example, hosts can use it to learn their places' projected booking rate and value; more importantly, they can explore the relation between booking rate and their places' key info (price, # of bed, location, key amenities, etc.) and thus make improvements to attract more guests and increase total revenue. \n",
    "\n",
    "While focusing on the San Francisco market for now, the model can potentially be expanded to many other cities, depending on data availability. As of now, we choose San Francisco out of two considerations: 1). data completeness: SF's Airbnb listing data are scraped monthly, providing the most updated information on listing availability; many other cities' data are updated every two or three months, or even longer. 2). Airbnb started its business in San Francisco. This city is their most mature market. Therefore we expect San Francisco's data to be the most diverse and complete, which is crucial for us to train a model that covers a variety of property types and targets a variety of customer groups. \n",
    "\n",
    "The project has three groups of potential audience in mind:\n",
    "\n",
    "- For Airbnb hosts and guests, who are the direct customers of this model. \n",
    "\n",
    "- For decision-makers at Airbnb, knowing their listings' projected value enables the company to “allocate budget across different marketing channels more efficiently, calculate more precise bidding prices for online marketing based on keywords, and create better listing segments.”\n",
    "\n",
    "- For anybody interested in this company, a model that predicts Airbnb listing's availability and projects its future value enables them to better understand its business model as well as the emerging 'Accommodation Sharing Economy'. We all know Airbnb will go public someday; it's better to start understand their business now.\n",
    "\n",
    "This report serves as a detailed documentation of the project. It is structured as follows:\n",
    "\n",
    "- ***The Data*** gives an overview of the dataset and how it is preprocessed.\n",
    "\n",
    "- ***Data Wrangle*** presents the entire data-transformation process, from data cleaning to feature engineering.\n",
    "\n",
    "- ***Fit Model*** includes details on model-testing and hyperparameter-tuning. After trying a variety of machine-learning models, we found the best-performing one.\n",
    "\n",
    "- ***Model Analysis*** provides in-depth analysis on the model, where it performs the best, where it performs the worst as well as some interesting relations revealed by the model.\n",
    "\n",
    "- ***Model Application*** gives two examples on how the model can potentially be used by Airbnb hosts and guests.\n",
    "\n",
    "- ***Conclusion*** discusses the strengthen and weakness of the model and possible pathways for future data scientists to explore."
   ]
  },
  {
   "cell_type": "markdown",
   "metadata": {},
   "source": [
    "## II. The Data\n",
    "\n",
    "The data contain detailed information of 392 Airbnb listings in San Francisco, with their daily availability info from September 2015 to September 2017. Data are scraped from Airbnb once a month, by Murray Cox, who ran insideairbnb. com. For more detailed information, check the data source: http://insideairbnb.com/get-the-data.html.\n",
    "\n",
    "### Preprocess\n",
    "\n",
    "Data are scraped from Airbnb on the second day of each month. Since listing's availability is taken directly from the availability calendar on the website, each raw data include daily availability for the next 365 days. For example, for dataset obtained on September 2, 2015, it contain daily availability and other detailed informaiton for each listing from September 2, 2015 to September 1, 2016. \n",
    "\n",
    "We can truncate the raw data and combine them to one set. An illustration: since we have one dataset with information from September 2, 2015 to September 1, 2016(call it the old one), and one month later another dataset with information from October 2, 2015 to October 1, 2016(the new one), let's keep only the information from September 2, 2015 to October 1, 2015 in the old dataset, and append that month of data to the new dataset. Repeating this process for the 23 datasets (23 months from Sep 2015 to Sep 2017) we have, we can thus have the most up-to-date information of the listings in a span of two years. You can find the code of how I executed this plan here: https://github.com/fffdong/SpringBoard-Capstone-Project/blob/master/Preprocess.py."
   ]
  },
  {
   "cell_type": "markdown",
   "metadata": {},
   "source": [
    "## III. Data Wrangle"
   ]
  },
  {
   "cell_type": "code",
   "execution_count": 2,
   "metadata": {},
   "outputs": [],
   "source": [
    "import os\n",
    "import pandas as pd\n",
    "import numpy as np\n",
    "import xgboost as xgb\n",
    "from sklearn import metrics\n",
    "import matplotlib.pyplot as plt\n",
    "import seaborn as sns\n",
    "%matplotlib inline  \n",
    "\n",
    "os.chdir('C:/Users/fando/Box Sync/Springboard/Capstone Project/Data')"
   ]
  },
  {
   "cell_type": "markdown",
   "metadata": {},
   "source": [
    "Let's first load the data and take a look at it."
   ]
  },
  {
   "cell_type": "code",
   "execution_count": 3,
   "metadata": {},
   "outputs": [],
   "source": [
    "dtype_dict = np.load('dtype_dict.npy').item()\n",
    "allData = pd.read_csv('allData.txt', sep=\" \", dtype = dtype_dict, encoding = \"ISO-8859-1\")\n",
    "summary_numeric = allData.describe()\n",
    "summary_str = allData.describe(include=['O'])"
   ]
  },
  {
   "cell_type": "code",
   "execution_count": 4,
   "metadata": {},
   "outputs": [
    {
     "data": {
      "text/html": [
       "<div>\n",
       "<table border=\"1\" class=\"dataframe\">\n",
       "  <thead>\n",
       "    <tr style=\"text-align: right;\">\n",
       "      <th></th>\n",
       "      <th>access</th>\n",
       "      <th>accommodates</th>\n",
       "      <th>amenities</th>\n",
       "      <th>availability_30</th>\n",
       "      <th>availability_365</th>\n",
       "      <th>availability_60</th>\n",
       "      <th>availability_90</th>\n",
       "      <th>available</th>\n",
       "      <th>bathrooms</th>\n",
       "      <th>bed_type</th>\n",
       "      <th>...</th>\n",
       "      <th>space</th>\n",
       "      <th>square_feet</th>\n",
       "      <th>state</th>\n",
       "      <th>street</th>\n",
       "      <th>summary</th>\n",
       "      <th>thumbnail_url</th>\n",
       "      <th>transit</th>\n",
       "      <th>weekly_price</th>\n",
       "      <th>xl_picture_url</th>\n",
       "      <th>zipcode</th>\n",
       "    </tr>\n",
       "  </thead>\n",
       "  <tbody>\n",
       "    <tr>\n",
       "      <th>0</th>\n",
       "      <td>NaN</td>\n",
       "      <td>2</td>\n",
       "      <td>{TV,\"Cable TV\",Internet,\"Wireless Internet\",Ki...</td>\n",
       "      <td>5</td>\n",
       "      <td>312</td>\n",
       "      <td>12</td>\n",
       "      <td>42</td>\n",
       "      <td>f</td>\n",
       "      <td>1.0</td>\n",
       "      <td>Real Bed</td>\n",
       "      <td>...</td>\n",
       "      <td>Amazing ocean views with a private brand new b...</td>\n",
       "      <td>NaN</td>\n",
       "      <td>CA</td>\n",
       "      <td>42nd Avenue, San Francisco, CA 94121, United S...</td>\n",
       "      <td>Newly built cottage that comfortably sleeps 2....</td>\n",
       "      <td>https://a1.muscache.com/ic/pictures/37533928/f...</td>\n",
       "      <td>Geary bus stop half block away.Fulton st. bus ...</td>\n",
       "      <td>NaN</td>\n",
       "      <td>https://a1.muscache.com/ic/pictures/37533928/f...</td>\n",
       "      <td>94121</td>\n",
       "    </tr>\n",
       "    <tr>\n",
       "      <th>1</th>\n",
       "      <td>NaN</td>\n",
       "      <td>2</td>\n",
       "      <td>{TV,\"Cable TV\",Internet,\"Wireless Internet\",Ki...</td>\n",
       "      <td>5</td>\n",
       "      <td>312</td>\n",
       "      <td>12</td>\n",
       "      <td>42</td>\n",
       "      <td>f</td>\n",
       "      <td>1.0</td>\n",
       "      <td>Real Bed</td>\n",
       "      <td>...</td>\n",
       "      <td>Amazing ocean views with a private brand new b...</td>\n",
       "      <td>NaN</td>\n",
       "      <td>CA</td>\n",
       "      <td>42nd Avenue, San Francisco, CA 94121, United S...</td>\n",
       "      <td>Newly built cottage that comfortably sleeps 2....</td>\n",
       "      <td>https://a1.muscache.com/ic/pictures/37533928/f...</td>\n",
       "      <td>Geary bus stop half block away.Fulton st. bus ...</td>\n",
       "      <td>NaN</td>\n",
       "      <td>https://a1.muscache.com/ic/pictures/37533928/f...</td>\n",
       "      <td>94121</td>\n",
       "    </tr>\n",
       "    <tr>\n",
       "      <th>2</th>\n",
       "      <td>NaN</td>\n",
       "      <td>2</td>\n",
       "      <td>{TV,\"Cable TV\",Internet,\"Wireless Internet\",Ki...</td>\n",
       "      <td>5</td>\n",
       "      <td>312</td>\n",
       "      <td>12</td>\n",
       "      <td>42</td>\n",
       "      <td>f</td>\n",
       "      <td>1.0</td>\n",
       "      <td>Real Bed</td>\n",
       "      <td>...</td>\n",
       "      <td>Amazing ocean views with a private brand new b...</td>\n",
       "      <td>NaN</td>\n",
       "      <td>CA</td>\n",
       "      <td>42nd Avenue, San Francisco, CA 94121, United S...</td>\n",
       "      <td>Newly built cottage that comfortably sleeps 2....</td>\n",
       "      <td>https://a1.muscache.com/ic/pictures/37533928/f...</td>\n",
       "      <td>Geary bus stop half block away.Fulton st. bus ...</td>\n",
       "      <td>NaN</td>\n",
       "      <td>https://a1.muscache.com/ic/pictures/37533928/f...</td>\n",
       "      <td>94121</td>\n",
       "    </tr>\n",
       "    <tr>\n",
       "      <th>3</th>\n",
       "      <td>NaN</td>\n",
       "      <td>2</td>\n",
       "      <td>{TV,\"Cable TV\",Internet,\"Wireless Internet\",Ki...</td>\n",
       "      <td>5</td>\n",
       "      <td>312</td>\n",
       "      <td>12</td>\n",
       "      <td>42</td>\n",
       "      <td>f</td>\n",
       "      <td>1.0</td>\n",
       "      <td>Real Bed</td>\n",
       "      <td>...</td>\n",
       "      <td>Amazing ocean views with a private brand new b...</td>\n",
       "      <td>NaN</td>\n",
       "      <td>CA</td>\n",
       "      <td>42nd Avenue, San Francisco, CA 94121, United S...</td>\n",
       "      <td>Newly built cottage that comfortably sleeps 2....</td>\n",
       "      <td>https://a1.muscache.com/ic/pictures/37533928/f...</td>\n",
       "      <td>Geary bus stop half block away.Fulton st. bus ...</td>\n",
       "      <td>NaN</td>\n",
       "      <td>https://a1.muscache.com/ic/pictures/37533928/f...</td>\n",
       "      <td>94121</td>\n",
       "    </tr>\n",
       "    <tr>\n",
       "      <th>4</th>\n",
       "      <td>NaN</td>\n",
       "      <td>2</td>\n",
       "      <td>{TV,\"Cable TV\",Internet,\"Wireless Internet\",Ki...</td>\n",
       "      <td>5</td>\n",
       "      <td>312</td>\n",
       "      <td>12</td>\n",
       "      <td>42</td>\n",
       "      <td>f</td>\n",
       "      <td>1.0</td>\n",
       "      <td>Real Bed</td>\n",
       "      <td>...</td>\n",
       "      <td>Amazing ocean views with a private brand new b...</td>\n",
       "      <td>NaN</td>\n",
       "      <td>CA</td>\n",
       "      <td>42nd Avenue, San Francisco, CA 94121, United S...</td>\n",
       "      <td>Newly built cottage that comfortably sleeps 2....</td>\n",
       "      <td>https://a1.muscache.com/ic/pictures/37533928/f...</td>\n",
       "      <td>Geary bus stop half block away.Fulton st. bus ...</td>\n",
       "      <td>NaN</td>\n",
       "      <td>https://a1.muscache.com/ic/pictures/37533928/f...</td>\n",
       "      <td>94121</td>\n",
       "    </tr>\n",
       "  </tbody>\n",
       "</table>\n",
       "<p>5 rows × 99 columns</p>\n",
       "</div>"
      ],
      "text/plain": [
       "  access  accommodates                                          amenities  \\\n",
       "0    NaN             2  {TV,\"Cable TV\",Internet,\"Wireless Internet\",Ki...   \n",
       "1    NaN             2  {TV,\"Cable TV\",Internet,\"Wireless Internet\",Ki...   \n",
       "2    NaN             2  {TV,\"Cable TV\",Internet,\"Wireless Internet\",Ki...   \n",
       "3    NaN             2  {TV,\"Cable TV\",Internet,\"Wireless Internet\",Ki...   \n",
       "4    NaN             2  {TV,\"Cable TV\",Internet,\"Wireless Internet\",Ki...   \n",
       "\n",
       "   availability_30  availability_365  availability_60  availability_90  \\\n",
       "0                5               312               12               42   \n",
       "1                5               312               12               42   \n",
       "2                5               312               12               42   \n",
       "3                5               312               12               42   \n",
       "4                5               312               12               42   \n",
       "\n",
       "  available  bathrooms  bed_type   ...    \\\n",
       "0         f        1.0  Real Bed   ...     \n",
       "1         f        1.0  Real Bed   ...     \n",
       "2         f        1.0  Real Bed   ...     \n",
       "3         f        1.0  Real Bed   ...     \n",
       "4         f        1.0  Real Bed   ...     \n",
       "\n",
       "                                               space  square_feet  state  \\\n",
       "0  Amazing ocean views with a private brand new b...          NaN     CA   \n",
       "1  Amazing ocean views with a private brand new b...          NaN     CA   \n",
       "2  Amazing ocean views with a private brand new b...          NaN     CA   \n",
       "3  Amazing ocean views with a private brand new b...          NaN     CA   \n",
       "4  Amazing ocean views with a private brand new b...          NaN     CA   \n",
       "\n",
       "                                              street  \\\n",
       "0  42nd Avenue, San Francisco, CA 94121, United S...   \n",
       "1  42nd Avenue, San Francisco, CA 94121, United S...   \n",
       "2  42nd Avenue, San Francisco, CA 94121, United S...   \n",
       "3  42nd Avenue, San Francisco, CA 94121, United S...   \n",
       "4  42nd Avenue, San Francisco, CA 94121, United S...   \n",
       "\n",
       "                                             summary  \\\n",
       "0  Newly built cottage that comfortably sleeps 2....   \n",
       "1  Newly built cottage that comfortably sleeps 2....   \n",
       "2  Newly built cottage that comfortably sleeps 2....   \n",
       "3  Newly built cottage that comfortably sleeps 2....   \n",
       "4  Newly built cottage that comfortably sleeps 2....   \n",
       "\n",
       "                                       thumbnail_url  \\\n",
       "0  https://a1.muscache.com/ic/pictures/37533928/f...   \n",
       "1  https://a1.muscache.com/ic/pictures/37533928/f...   \n",
       "2  https://a1.muscache.com/ic/pictures/37533928/f...   \n",
       "3  https://a1.muscache.com/ic/pictures/37533928/f...   \n",
       "4  https://a1.muscache.com/ic/pictures/37533928/f...   \n",
       "\n",
       "                                             transit weekly_price  \\\n",
       "0  Geary bus stop half block away.Fulton st. bus ...          NaN   \n",
       "1  Geary bus stop half block away.Fulton st. bus ...          NaN   \n",
       "2  Geary bus stop half block away.Fulton st. bus ...          NaN   \n",
       "3  Geary bus stop half block away.Fulton st. bus ...          NaN   \n",
       "4  Geary bus stop half block away.Fulton st. bus ...          NaN   \n",
       "\n",
       "                                      xl_picture_url zipcode  \n",
       "0  https://a1.muscache.com/ic/pictures/37533928/f...   94121  \n",
       "1  https://a1.muscache.com/ic/pictures/37533928/f...   94121  \n",
       "2  https://a1.muscache.com/ic/pictures/37533928/f...   94121  \n",
       "3  https://a1.muscache.com/ic/pictures/37533928/f...   94121  \n",
       "4  https://a1.muscache.com/ic/pictures/37533928/f...   94121  \n",
       "\n",
       "[5 rows x 99 columns]"
      ]
     },
     "execution_count": 4,
     "metadata": {},
     "output_type": "execute_result"
    }
   ],
   "source": [
    "allData.head()"
   ]
  },
  {
   "cell_type": "markdown",
   "metadata": {},
   "source": [
    "Many variables have format issues. Let's fix them one by one."
   ]
  },
  {
   "cell_type": "markdown",
   "metadata": {},
   "source": [
    "#### Price-related\n",
    "\n",
    "Get rid of the dollar sign and make it numeric."
   ]
  },
  {
   "cell_type": "code",
   "execution_count": 6,
   "metadata": {},
   "outputs": [
    {
     "data": {
      "text/plain": [
       "0    $145.00\n",
       "1    $145.00\n",
       "2    $145.00\n",
       "3    $145.00\n",
       "4    $145.00\n",
       "Name: price_y, dtype: object"
      ]
     },
     "execution_count": 6,
     "metadata": {},
     "output_type": "execute_result"
    }
   ],
   "source": [
    "allData.price_y.head()"
   ]
  },
  {
   "cell_type": "code",
   "execution_count": null,
   "metadata": {},
   "outputs": [],
   "source": [
    "for i in ['price_x','price_y', 'cleaning_fee', 'security_deposit', 'weekly_price', 'extra_people']:\n",
    "    allData[i] = allData[i].str.extract('([0-9].*\\.0{2})').str.replace(',', '')\n",
    "    allData[i] = pd.to_numeric(allData[i])"
   ]
  },
  {
   "cell_type": "code",
   "execution_count": null,
   "metadata": {},
   "outputs": [],
   "source": [
    "allData['price'] = allData['price_x']\n",
    "allData.drop(['price_x'], axis=1, inplace=True)"
   ]
  },
  {
   "cell_type": "code",
   "execution_count": null,
   "metadata": {},
   "outputs": [],
   "source": [
    "by_id = allData.groupby('listing_id')\n",
    "allData['price'] = by_id['price'].transform(lambda x: x.fillna(x.mean()))\n",
    "allData['price'] = allData['price'].fillna(allData['price_y'])"
   ]
  },
  {
   "cell_type": "markdown",
   "metadata": {},
   "source": [
    "#### Create dummies"
   ]
  },
  {
   "cell_type": "code",
   "execution_count": null,
   "metadata": {},
   "outputs": [],
   "source": [
    "allData = pd.get_dummies(allData, columns=[\"cancellation_policy\", \"bed_type\", \"room_type\", \n",
    "                                           \"neighbourhood_cleansed\", \"property_type\", \"instant_bookable\"], \n",
    "                         prefix=[\"cancel\", \"bed\", \"room\", \"neigh\", \"proty\", \"insboo\"])"
   ]
  },
  {
   "cell_type": "markdown",
   "metadata": {},
   "source": [
    "#### Fix bedrooms\n",
    "\n",
    "When the listing is a studio, its bedroom number is 0. We can fix it to 1."
   ]
  },
  {
   "cell_type": "code",
   "execution_count": null,
   "metadata": {},
   "outputs": [],
   "source": [
    "allData.at[(allData['bedrooms']<1), 'bedrooms']=1.0"
   ]
  },
  {
   "cell_type": "markdown",
   "metadata": {},
   "source": [
    "#### Amenities"
   ]
  },
  {
   "cell_type": "markdown",
   "metadata": {},
   "source": [
    "Here comes the tricky one. Amenities comes as a dictionary-like object, containing a list of amenities the listing has to offer as a single variable. We need to break them down into a list of dummies."
   ]
  },
  {
   "cell_type": "code",
   "execution_count": 8,
   "metadata": {},
   "outputs": [
    {
     "data": {
      "text/plain": [
       "0    {TV,\"Cable TV\",Internet,\"Wireless Internet\",Ki...\n",
       "1    {TV,\"Cable TV\",Internet,\"Wireless Internet\",Ki...\n",
       "2    {TV,\"Cable TV\",Internet,\"Wireless Internet\",Ki...\n",
       "3    {TV,\"Cable TV\",Internet,\"Wireless Internet\",Ki...\n",
       "4    {TV,\"Cable TV\",Internet,\"Wireless Internet\",Ki...\n",
       "Name: amenities, dtype: object"
      ]
     },
     "execution_count": 8,
     "metadata": {},
     "output_type": "execute_result"
    }
   ],
   "source": [
    "allData.amenities.head()"
   ]
  },
  {
   "cell_type": "code",
   "execution_count": null,
   "metadata": {},
   "outputs": [],
   "source": [
    "amenities_df = allData[['amenities', 'listing_id']].drop_duplicates()\n",
    "for i in list(range(0, len(amenities_df))):\n",
    "    amen = amenities_df.iloc[i, 0]\n",
    "    amen = amen[1:len(amen)-1]\n",
    "    amen = amen.replace('\"', '')\n",
    "    amen = amen.split(\",\")\n",
    "    amen = list(map(str.lower, amen))\n",
    "    for j in amen:\n",
    "        if j in list(amenities_df.columns.values):\n",
    "            amenities_df[j].iloc[i] = 1\n",
    "        else:\n",
    "            amenities_df[j] = np.nan\n",
    "            amenities_df[j].iloc[i] = 1"
   ]
  },
  {
   "cell_type": "code",
   "execution_count": null,
   "metadata": {},
   "outputs": [],
   "source": [
    "amenities_df = amenities_df.fillna(0)"
   ]
  },
  {
   "cell_type": "code",
   "execution_count": null,
   "metadata": {},
   "outputs": [],
   "source": [
    "# Manually combine the same amenities to one variable\n",
    "amenities_df['tv'] = amenities_df['tv'] + amenities_df['cable tv']\n",
    "amenities_df['internet'] = amenities_df['internet'] + amenities_df['wireless internet']\n",
    "amenities_df['elevator'] = amenities_df['elevator in building'] + amenities_df['elevator']\n",
    "amenities_df['smartlock'] = amenities_df['smartlock'] + amenities_df['smart lock']"
   ]
  },
  {
   "cell_type": "code",
   "execution_count": null,
   "metadata": {},
   "outputs": [],
   "source": [
    "amenities_df = amenities_df.drop(['translation missing: en.hosting_amenity_49', 'translation missing: en.hosting_amenity_50', \n",
    "                '', 'cable tv', 'wireless internet', 'elevator in building', 'smart lock'], axis=1)\n",
    "amenities_df = amenities_df.replace(2,1)\n",
    "amenities_df = amenities_df.replace(3,1)\n",
    "allData = pd.merge(allData, amenities_df, on=['listing_id', 'amenities'], how='left')"
   ]
  },
  {
   "cell_type": "markdown",
   "metadata": {},
   "source": [
    "#### Done!\n",
    "\n",
    "Now let's save the processed data and move to the next step: Deal with NAs."
   ]
  },
  {
   "cell_type": "code",
   "execution_count": null,
   "metadata": {},
   "outputs": [],
   "source": [
    "dtype_dict_processed = allData.dtypes.apply(lambda x: x.name).to_dict()\n",
    "dtype_dict_processed.update({'date': 'object', 'last_scraped': 'object'})\n",
    "np.save('dtype_dict_processed.npy', dtype_dict_processed) \n",
    "allData.to_csv('allData_processed.txt', index=False, sep=' ', header=True)"
   ]
  },
  {
   "cell_type": "markdown",
   "metadata": {},
   "source": [
    "## Deal with NAs"
   ]
  },
  {
   "cell_type": "code",
   "execution_count": 383,
   "metadata": {},
   "outputs": [],
   "source": [
    "dtype_dict = np.load('dtype_dict_processed.npy').item()\n",
    "allData = pd.read_csv('allData_processed.txt', sep=\" \", dtype = dtype_dict, encoding = \"ISO-8859-1\")"
   ]
  },
  {
   "cell_type": "code",
   "execution_count": 384,
   "metadata": {
    "collapsed": false
   },
   "outputs": [
    {
     "data": {
      "text/html": [
       "<div>\n",
       "<table border=\"1\" class=\"dataframe\">\n",
       "  <thead>\n",
       "    <tr style=\"text-align: right;\">\n",
       "      <th></th>\n",
       "      <th>index</th>\n",
       "      <th>0</th>\n",
       "    </tr>\n",
       "  </thead>\n",
       "  <tbody>\n",
       "    <tr>\n",
       "      <th>0</th>\n",
       "      <td>access</td>\n",
       "      <td>54.125609</td>\n",
       "    </tr>\n",
       "    <tr>\n",
       "      <th>1</th>\n",
       "      <td>cleaning_fee</td>\n",
       "      <td>22.568662</td>\n",
       "    </tr>\n",
       "    <tr>\n",
       "      <th>2</th>\n",
       "      <td>first_review</td>\n",
       "      <td>6.861929</td>\n",
       "    </tr>\n",
       "    <tr>\n",
       "      <th>3</th>\n",
       "      <td>has_availability</td>\n",
       "      <td>66.860488</td>\n",
       "    </tr>\n",
       "    <tr>\n",
       "      <th>4</th>\n",
       "      <td>host_about</td>\n",
       "      <td>16.363213</td>\n",
       "    </tr>\n",
       "  </tbody>\n",
       "</table>\n",
       "</div>"
      ],
      "text/plain": [
       "              index          0\n",
       "0            access  54.125609\n",
       "1      cleaning_fee  22.568662\n",
       "2      first_review   6.861929\n",
       "3  has_availability  66.860488\n",
       "4        host_about  16.363213"
      ]
     },
     "execution_count": 384,
     "metadata": {},
     "output_type": "execute_result"
    }
   ],
   "source": [
    "allData_nan = (allData.isnull().sum() / allData.shape[0]) * 100\n",
    "drop = allData_nan[allData_nan > 5].to_frame().reset_index()\n",
    "drop.head()"
   ]
  },
  {
   "cell_type": "markdown",
   "metadata": {},
   "source": [
    "Many variables have a great amount of missing values. While we can not use the variable directly due to NAs, the fact that a large portion of its observations are missing also provides important insight. Let's create binary variables indicating whether or not the variable's info is missing for each row."
   ]
  },
  {
   "cell_type": "markdown",
   "metadata": {},
   "source": [
    "Create dummies for summary, security_deposit, transit and host_about."
   ]
  },
  {
   "cell_type": "code",
   "execution_count": 385,
   "metadata": {
    "collapsed": false
   },
   "outputs": [],
   "source": [
    "allData['has_summary'] = allData['summary'].isnull().astype(int)\n",
    "allData['has_deposit'] = allData['security_deposit'].isnull().astype(int)\n",
    "allData['has_transit'] = allData['transit'].isnull().astype(int)\n",
    "allData['has_host'] = allData['host_about'].isnull().astype(int)"
   ]
  },
  {
   "cell_type": "markdown",
   "metadata": {},
   "source": [
    "The listing summary put up by the host will largely have an impact on potential guests' decision-making process. Create variable 'summary_len' that contains the length of the summary. Rational behind: The longer the summary, the more dedicated the host, the more likely the guest will book it."
   ]
  },
  {
   "cell_type": "code",
   "execution_count": 386,
   "metadata": {
    "collapsed": false
   },
   "outputs": [],
   "source": [
    "summary = allData['summary'].tolist()\n",
    "summary = list(map(str, summary))\n",
    "allData['summary_len'] = list(map(len, summary))\n",
    "allData.at[allData['summary_len']<5, 'summary']=0"
   ]
  },
  {
   "cell_type": "markdown",
   "metadata": {},
   "source": [
    "Now we can drop variables with more than 5% NAs and rows with NAs."
   ]
  },
  {
   "cell_type": "code",
   "execution_count": 387,
   "metadata": {
    "collapsed": false
   },
   "outputs": [],
   "source": [
    "allData.drop(list(drop['index']), axis=1, inplace=True)"
   ]
  },
  {
   "cell_type": "code",
   "execution_count": 388,
   "metadata": {
    "collapsed": true
   },
   "outputs": [],
   "source": [
    "allData = allData.dropna(axis=0, how='any')"
   ]
  },
  {
   "cell_type": "markdown",
   "metadata": {},
   "source": [
    "#### Amenities\n",
    "\n",
    "Many amenities are only provided by a limited amount of listings, which are not very informative to include in the model. \n",
    "Check amenities' availability (percentage of listings that have this amenity) and drop those provided by less than 5% of listings."
   ]
  },
  {
   "cell_type": "code",
   "execution_count": 389,
   "metadata": {},
   "outputs": [],
   "source": [
    "start = allData.columns.get_loc(\"tv\")\n",
    "end = allData.columns.get_loc(\"cancel_flexible\")\n",
    "amenities = allData.iloc[:, start:end]\n",
    "amenities['listing_id'] = allData['listing_id']\n",
    "amenities = amenities.drop_duplicates()"
   ]
  },
  {
   "cell_type": "code",
   "execution_count": 391,
   "metadata": {},
   "outputs": [
    {
     "data": {
      "text/plain": [
       "listing_id             inf\n",
       "internet          0.397825\n",
       "heating           0.381773\n",
       "essentials        0.357694\n",
       "smoke detector    0.354553\n",
       "dtype: float64"
      ]
     },
     "execution_count": 391,
     "metadata": {},
     "output_type": "execute_result"
    }
   ],
   "source": [
    "amen_perc = (amenities.sum() / allData.shape[0]) * 100\n",
    "amen_perc.sort_values(inplace=True, ascending=False)\n",
    "amen_perc.head()"
   ]
  },
  {
   "cell_type": "code",
   "execution_count": 16,
   "metadata": {},
   "outputs": [],
   "source": [
    "drop = amen_perc[amen_perc < 0.05].to_frame().reset_index()\n",
    "allData.drop(list(drop['index']), axis=1, inplace=True)"
   ]
  },
  {
   "cell_type": "markdown",
   "metadata": {},
   "source": [
    "#### Ready!\n",
    "Now check the dimension of the processed data."
   ]
  },
  {
   "cell_type": "code",
   "execution_count": 17,
   "metadata": {
    "collapsed": false
   },
   "outputs": [
    {
     "data": {
      "text/plain": [
       "(286558, 160)"
      ]
     },
     "execution_count": 17,
     "metadata": {},
     "output_type": "execute_result"
    }
   ],
   "source": [
    "allData.shape"
   ]
  },
  {
   "cell_type": "code",
   "execution_count": 18,
   "metadata": {
    "collapsed": false
   },
   "outputs": [
    {
     "data": {
      "text/plain": [
       "392"
      ]
     },
     "execution_count": 18,
     "metadata": {},
     "output_type": "execute_result"
    }
   ],
   "source": [
    "len(allData.groupby('listing_id').size())"
   ]
  },
  {
   "cell_type": "markdown",
   "metadata": {},
   "source": [
    "286558 observations; 160 columns.\n",
    "\n",
    "This dataset includes 392 Airbnb listings in San Francisco, with their daily availability info from September 2015 to September 2017."
   ]
  },
  {
   "cell_type": "markdown",
   "metadata": {},
   "source": [
    "## Prepare Feature Set and Target Variable"
   ]
  },
  {
   "cell_type": "code",
   "execution_count": 23,
   "metadata": {
    "collapsed": true
   },
   "outputs": [],
   "source": [
    "drop = ['amenities', 'calendar_last_scraped', 'calendar_updated', 'city',\n",
    "       'country', 'country_code', 'description', 'host_location', 'host_name',\n",
    "       'host_picture_url', 'latitude', 'longitude', 'host_neighbourhood',\n",
    "       'host_thumbnail_url', 'host_url', 'host_verifications',\n",
    "       'is_location_exact', 'jurisdiction_names', 'last_scraped',\n",
    "       'listing_id', 'listing_url', 'market', 'name', 'neighbourhood',\n",
    "       'picture_url', 'availability_30', 'availability_365', 'experiences_offered',\n",
    "       'availability_60', 'availability_90', 'available', 'host_id', \n",
    "       'smart_location', 'state', 'street', 'zipcode', 'scrape_id', \n",
    "        'file_index', 'price_y']"
   ]
  },
  {
   "cell_type": "code",
   "execution_count": 24,
   "metadata": {
    "collapsed": false
   },
   "outputs": [],
   "source": [
    "features = allData.drop(drop, axis=1, inplace=False)"
   ]
  },
  {
   "cell_type": "code",
   "execution_count": 25,
   "metadata": {
    "collapsed": false
   },
   "outputs": [],
   "source": [
    "features_str = features.describe(include=['O'])"
   ]
  },
  {
   "cell_type": "code",
   "execution_count": 26,
   "metadata": {
    "collapsed": false
   },
   "outputs": [
    {
     "data": {
      "text/html": [
       "<div>\n",
       "<table border=\"1\" class=\"dataframe\">\n",
       "  <thead>\n",
       "    <tr style=\"text-align: right;\">\n",
       "      <th></th>\n",
       "      <th>date</th>\n",
       "      <th>host_has_profile_pic</th>\n",
       "      <th>host_identity_verified</th>\n",
       "      <th>host_is_superhost</th>\n",
       "      <th>host_since</th>\n",
       "      <th>require_guest_phone_verification</th>\n",
       "      <th>require_guest_profile_picture</th>\n",
       "      <th>requires_license</th>\n",
       "    </tr>\n",
       "  </thead>\n",
       "  <tbody>\n",
       "    <tr>\n",
       "      <th>count</th>\n",
       "      <td>286558</td>\n",
       "      <td>286558</td>\n",
       "      <td>286558</td>\n",
       "      <td>286558</td>\n",
       "      <td>286558</td>\n",
       "      <td>286558</td>\n",
       "      <td>286558</td>\n",
       "      <td>286558</td>\n",
       "    </tr>\n",
       "    <tr>\n",
       "      <th>unique</th>\n",
       "      <td>732</td>\n",
       "      <td>2</td>\n",
       "      <td>2</td>\n",
       "      <td>2</td>\n",
       "      <td>331</td>\n",
       "      <td>2</td>\n",
       "      <td>2</td>\n",
       "      <td>2</td>\n",
       "    </tr>\n",
       "    <tr>\n",
       "      <th>top</th>\n",
       "      <td>2016-11-01</td>\n",
       "      <td>t</td>\n",
       "      <td>t</td>\n",
       "      <td>f</td>\n",
       "      <td>2013-05-12</td>\n",
       "      <td>f</td>\n",
       "      <td>f</td>\n",
       "      <td>t</td>\n",
       "    </tr>\n",
       "    <tr>\n",
       "      <th>freq</th>\n",
       "      <td>769</td>\n",
       "      <td>286497</td>\n",
       "      <td>227934</td>\n",
       "      <td>212025</td>\n",
       "      <td>6606</td>\n",
       "      <td>257962</td>\n",
       "      <td>268981</td>\n",
       "      <td>179513</td>\n",
       "    </tr>\n",
       "  </tbody>\n",
       "</table>\n",
       "</div>"
      ],
      "text/plain": [
       "              date host_has_profile_pic host_identity_verified  \\\n",
       "count       286558               286558                 286558   \n",
       "unique         732                    2                      2   \n",
       "top     2016-11-01                    t                      t   \n",
       "freq           769               286497                 227934   \n",
       "\n",
       "       host_is_superhost  host_since require_guest_phone_verification  \\\n",
       "count             286558      286558                           286558   \n",
       "unique                 2         331                                2   \n",
       "top                    f  2013-05-12                                f   \n",
       "freq              212025        6606                           257962   \n",
       "\n",
       "       require_guest_profile_picture requires_license  \n",
       "count                         286558           286558  \n",
       "unique                             2                2  \n",
       "top                                f                t  \n",
       "freq                          268981           179513  "
      ]
     },
     "execution_count": 26,
     "metadata": {},
     "output_type": "execute_result"
    }
   ],
   "source": [
    "features_str"
   ]
  },
  {
   "cell_type": "markdown",
   "metadata": {},
   "source": [
    "### Create some date variables\n",
    "#### Holiday dummy"
   ]
  },
  {
   "cell_type": "code",
   "execution_count": 27,
   "metadata": {
    "collapsed": true
   },
   "outputs": [],
   "source": [
    "holiday = ['2016-01-01', '2017-01-01', '2015-12-31', '2016-12-31', '2016-01-18', '2016-01-17', '2016-01-16', '2017-01-16', '2017-01-15',\n",
    "          '2017-01-14', '2017-02-20', '2017-02-19', '2017-02-18', '2016-02-15', '2016-02-14', '2016-02-13', '2016-05-30', '2016-05-29',\n",
    "          '2016-05-28', '2017-05-29', '2017-05-28', '2017-05-27', '2016-07-04', '2016-07-03', '2016-07-02', '2017-07-04', '2016-09-05',\n",
    "          '2016-09-04', '2016-09-03', '2015-09-07', '2015-09-06', '2015-09-05', '2015-11-11', '2016-11-11', '2016-11-12', '2016-11-13',\n",
    "          '2016-11-23', '2016-11-24', '2016-11-25', '2016-11-26', '2016-11-27', '2015-11-25', '2015-11-26', '2015-11-27', '2015-11-28',\n",
    "          '2015-11-29', '2015-12-24', '2015-12-25', '2016-12-24', '2016-12-25']"
   ]
  },
  {
   "cell_type": "code",
   "execution_count": 28,
   "metadata": {
    "collapsed": false
   },
   "outputs": [],
   "source": [
    "features['holiday'] = features['date'].isin(holiday)"
   ]
  },
  {
   "cell_type": "markdown",
   "metadata": {},
   "source": [
    "#### Length of being a host"
   ]
  },
  {
   "cell_type": "code",
   "execution_count": 29,
   "metadata": {
    "collapsed": true
   },
   "outputs": [],
   "source": [
    "features['date'] = pd.to_datetime(features['date'])\n",
    "features['host_since'] = pd.to_datetime(features['host_since'])"
   ]
  },
  {
   "cell_type": "code",
   "execution_count": 30,
   "metadata": {
    "collapsed": false
   },
   "outputs": [],
   "source": [
    "features['host_for'] = (features['date'].dt.year - features['host_since'].dt.year) * 12 + (features['date'].dt.month - features['host_since'].dt.month)"
   ]
  },
  {
   "cell_type": "markdown",
   "metadata": {},
   "source": [
    "#### Month, Weekday, Year of booking date"
   ]
  },
  {
   "cell_type": "code",
   "execution_count": 31,
   "metadata": {
    "collapsed": false
   },
   "outputs": [],
   "source": [
    "features['book_month'] = features['date'].dt.month.astype('category')\n",
    "features['book_year'] = features['date'].dt.year.astype('category')\n",
    "features['book_day'] = features['date'].dt.day.astype('category')\n",
    "features['book_weekday'] = features['date'].dt.weekday"
   ]
  },
  {
   "cell_type": "markdown",
   "metadata": {},
   "source": [
    "#### Weekend dummy"
   ]
  },
  {
   "cell_type": "code",
   "execution_count": 32,
   "metadata": {
    "collapsed": false
   },
   "outputs": [],
   "source": [
    "features['weekend'] = (features['book_weekday'] >= 4) & (features['book_weekday'] <= 5)"
   ]
  },
  {
   "cell_type": "markdown",
   "metadata": {},
   "source": [
    "#### In which week of the year the booking took place"
   ]
  },
  {
   "cell_type": "code",
   "execution_count": 33,
   "metadata": {
    "collapsed": true
   },
   "outputs": [],
   "source": [
    "features['book_weekday'] = features['book_weekday'].astype('category')"
   ]
  },
  {
   "cell_type": "code",
   "execution_count": 34,
   "metadata": {
    "collapsed": false
   },
   "outputs": [],
   "source": [
    "month = features['date'].dt.month.tolist()\n",
    "year = features['date'].dt.year.tolist()\n",
    "day = features['date'].dt.day.tolist()\n",
    "\n",
    "week = []"
   ]
  },
  {
   "cell_type": "code",
   "execution_count": 35,
   "metadata": {
    "collapsed": false
   },
   "outputs": [],
   "source": [
    "for i in list(range(0, len(year))):\n",
    "    week.append(datetime.date(year[i], month[i], day[i]).isocalendar()[1])"
   ]
  },
  {
   "cell_type": "code",
   "execution_count": 36,
   "metadata": {
    "collapsed": true
   },
   "outputs": [],
   "source": [
    "features['book_week'] = week"
   ]
  },
  {
   "cell_type": "markdown",
   "metadata": {},
   "source": [
    "### A series of host-related dummies"
   ]
  },
  {
   "cell_type": "code",
   "execution_count": 37,
   "metadata": {
    "collapsed": false
   },
   "outputs": [],
   "source": [
    "features['host_identity_verified'] = features.host_identity_verified == 'none'\n",
    "features['host_is_superhost'] = features.host_is_superhost == 't'\n",
    "features['require_guest_phone_verification'] = features.require_guest_phone_verification == 't'\n",
    "features['host_has_profile_pic'] = features.host_has_profile_pic == 't'\n",
    "features['require_guest_profile_picture'] = features.require_guest_profile_picture == 't'\n",
    "features['requires_license'] = features.requires_license == 't'"
   ]
  },
  {
   "cell_type": "code",
   "execution_count": 38,
   "metadata": {
    "collapsed": true
   },
   "outputs": [],
   "source": [
    "features = features.drop(['host_since', 'date'], axis=1, inplace=False)"
   ]
  },
  {
   "cell_type": "markdown",
   "metadata": {},
   "source": [
    "#### Done!"
   ]
  },
  {
   "cell_type": "markdown",
   "metadata": {},
   "source": [
    "Get the target variable ready."
   ]
  },
  {
   "cell_type": "code",
   "execution_count": 185,
   "metadata": {
    "collapsed": true
   },
   "outputs": [],
   "source": [
    "target = allData['available']"
   ]
  },
  {
   "cell_type": "code",
   "execution_count": 186,
   "metadata": {
    "collapsed": true
   },
   "outputs": [],
   "source": [
    "features['target'] = target"
   ]
  },
  {
   "cell_type": "code",
   "execution_count": 41,
   "metadata": {},
   "outputs": [],
   "source": [
    "later_use = allData[['avail_365', 'avail_60', 'avail_90', 'listing_id']]"
   ]
  },
  {
   "cell_type": "code",
   "execution_count": 187,
   "metadata": {
    "collapsed": true
   },
   "outputs": [],
   "source": [
    "dtype_dict_ready = features.dtypes.apply(lambda x: x.name).to_dict()\n",
    "np.save('dtype_dict_ready.npy', dtype_dict_ready) \n",
    "features.to_csv('allData_ready.txt', index=False, sep=' ', header=True)"
   ]
  },
  {
   "cell_type": "code",
   "execution_count": 45,
   "metadata": {},
   "outputs": [],
   "source": [
    "later_use.to_csv('later.txt', index=False, sep=' ', header=True)"
   ]
  },
  {
   "cell_type": "code",
   "execution_count": 2,
   "metadata": {},
   "outputs": [],
   "source": [
    "import warnings\n",
    "warnings.filterwarnings(\"ignore\")"
   ]
  },
  {
   "cell_type": "code",
   "execution_count": 3,
   "metadata": {},
   "outputs": [],
   "source": [
    "dtype_dict_ready = np.load('dtype_dict_ready.npy').item()\n",
    "allData = pd.read_csv('allData_ready.txt', sep=\" \", dtype = dtype_dict_ready, encoding = \"ISO-8859-1\")\n",
    "allData.drop(['book_day'], axis=1, inplace=True)"
   ]
  },
  {
   "cell_type": "markdown",
   "metadata": {},
   "source": [
    "## IV. Fit Model\n",
    "\n",
    "The following classification models were tested and the results listed below (best-performing result for each model): Lasso, Random Forest, Adaboost, Neural Network, SVM, Gradient Boosting, XGBoost. In all cases, I used 4-fold Cross Validation for hyperparameter tuning in order to achieve the best performance. \n",
    "\n",
    "<img src=\"prediction result.png\" width= \"250\">\n",
    "\n",
    "The winner appears to be XGBoost with the following setting: \n",
    "\n",
    "xgb.XGBClassifier(n_estimators= 160, max_depth= 10, objective= 'binary:logistic', n_jobs= -1)\n",
    "\n",
    "For details on testing models' performance, check here: \n",
    "\n",
    "https://github.com/fffdong/SpringBoard-Capstone-Project/blob/master/Tune%20Parameter%20and%20Fit%20Model.ipynb\n",
    "https://github.com/fffdong/SpringBoard-Capstone-Project/blob/master/Fit%20Model%20by%20Quarter.ipynb"
   ]
  },
  {
   "cell_type": "code",
   "execution_count": 1,
   "metadata": {},
   "outputs": [],
   "source": [
    "import xgboost as xgb"
   ]
  },
  {
   "cell_type": "code",
   "execution_count": 10,
   "metadata": {},
   "outputs": [],
   "source": [
    "def to_int(df, var):\n",
    "    df[var] = df[var].astype(int)\n",
    "    return df"
   ]
  },
  {
   "cell_type": "code",
   "execution_count": 20,
   "metadata": {},
   "outputs": [],
   "source": [
    "for var in ['book_month', 'book_year', 'book_weekday']:\n",
    "    X_Q24 = to_int(X_Q24, var)\n",
    "    X_Q1 = to_int(X_Q1, var)\n",
    "    X = to_int(X, var)"
   ]
  },
  {
   "cell_type": "code",
   "execution_count": 25,
   "metadata": {},
   "outputs": [
    {
     "data": {
      "text/plain": [
       "0.95851595929893896"
      ]
     },
     "execution_count": 25,
     "metadata": {},
     "output_type": "execute_result"
    }
   ],
   "source": [
    "cross_val_score(xgb.XGBClassifier(n_estimators= 160, max_depth= 10, objective= 'binary:logistic', n_jobs= -1), X, y, scoring='roc_auc', cv=4).mean()"
   ]
  },
  {
   "cell_type": "markdown",
   "metadata": {},
   "source": [
    "Using 4-fold CV, XGBoost achieved an accuracy score of 95.85%, indicating that the model predicted 95.85% of the test cases correctly.\n",
    "\n",
    "This accuracy score sounds too good to be true. After all, while very helpful, one single metric cannot give us the full picture. Let's dig deeper and better understand the performance of our model."
   ]
  },
  {
   "cell_type": "markdown",
   "metadata": {},
   "source": [
    "## V. Model Analysis\n",
    "### A. Predict the future\n",
    "Train a model using 2015 and 2016's data and predict 2017's availability.\n",
    "\n",
    "Based on what we learned from Model Fitting, we will use XGBoost Classifier here."
   ]
  },
  {
   "cell_type": "code",
   "execution_count": null,
   "metadata": {},
   "outputs": [],
   "source": [
    "dat_1516 = allData[allData['book_year']!='2017']\n",
    "dat_17 = allData[allData['book_year']=='2017']"
   ]
  },
  {
   "cell_type": "code",
   "execution_count": 8,
   "metadata": {},
   "outputs": [],
   "source": [
    "clf = xgb.XGBClassifier(n_estimators= 160, max_depth= 10, objective= 'binary:logistic', n_jobs= -1)"
   ]
  },
  {
   "cell_type": "code",
   "execution_count": 9,
   "metadata": {},
   "outputs": [],
   "source": [
    "def to_int(df, var):\n",
    "    df[var] = df[var].astype(int)\n",
    "    return df"
   ]
  },
  {
   "cell_type": "code",
   "execution_count": 149,
   "metadata": {},
   "outputs": [
    {
     "data": {
      "text/plain": [
       "0.9563342166093477"
      ]
     },
     "execution_count": 149,
     "metadata": {},
     "output_type": "execute_result"
    }
   ],
   "source": [
    "X = dat_1516.drop('target', axis=1)\n",
    "y = dat_1516['target']\n",
    "test = dat_17.loc[(dat_17['book_month'].isin(['1','2','3','4','5','6']))]\n",
    "X_test = test.drop('target', axis=1)\n",
    "y_test = test['target']\n",
    "for var in ['book_month', 'book_year', 'book_weekday']:\n",
    "    X = to_int(X, var)\n",
    "    X_test = to_int(X_test, var)\n",
    "clf.fit(X, y)\n",
    "clf.score(X_test, y_test)"
   ]
  },
  {
   "cell_type": "markdown",
   "metadata": {},
   "source": [
    "The accuracy score looks relatively high. However, we must be cautious with this result. Let's first take a look at the **confusion matrix** of our model."
   ]
  },
  {
   "cell_type": "code",
   "execution_count": 24,
   "metadata": {},
   "outputs": [],
   "source": [
    "from sklearn.metrics import confusion_matrix"
   ]
  },
  {
   "cell_type": "code",
   "execution_count": 25,
   "metadata": {},
   "outputs": [
    {
     "data": {
      "text/plain": [
       "array([[49348,  1692],\n",
       "       [ 1406, 18502]])"
      ]
     },
     "execution_count": 25,
     "metadata": {},
     "output_type": "execute_result"
    }
   ],
   "source": [
    "confusion_matrix(y_test, y_pred_bin)"
   ]
  },
  {
   "cell_type": "markdown",
   "metadata": {},
   "source": [
    "[True Negative, False Positive]\n",
    "\n",
    "[False Negative, True Positive]"
   ]
  },
  {
   "cell_type": "code",
   "execution_count": 26,
   "metadata": {},
   "outputs": [
    {
     "name": "stdout",
     "output_type": "stream",
     "text": [
      "             precision    recall  f1-score   support\n",
      "\n",
      "unavailable       0.97      0.97      0.97     51040\n",
      "  available       0.92      0.93      0.92     19908\n",
      "\n",
      "avg / total       0.96      0.96      0.96     70948\n",
      "\n"
     ]
    }
   ],
   "source": [
    "from sklearn.metrics import classification_report\n",
    "print(classification_report(y_test, y_pred_bin, target_names=['unavailable', 'available']))"
   ]
  },
  {
   "cell_type": "markdown",
   "metadata": {},
   "source": [
    "It seems like the model is more accurate in predicting 'unavailability'. **That is, the model can accurately urge guests to book their apartments in advance; however, for hosts who want to know when their places will be unavailable and plan accordingly, the model is less accurate.** \n",
    "\n",
    "## A real life senario\n",
    "As a guest, I want to book a place through Airbnb in advance. That is, I am using today's listing information to predict its availability in two months. What's the relation between accuracy score and the number of days I book a place in advance?"
   ]
  },
  {
   "cell_type": "code",
   "execution_count": 145,
   "metadata": {},
   "outputs": [],
   "source": [
    "later_use = pd.read_csv('later.txt', sep=\" \", dtype = dtype_dict_ready, encoding = \"ISO-8859-1\")\n",
    "allData_avail = pd.concat([allData, later_use], axis=1)\n",
    "dat_17_avail = allData_avail[allData_avail['book_year']=='2017']\n",
    "test_avail = dat_17_avail.loc[(dat_17_avail['book_month'].isin(['1','2','3','4','5','6']))]"
   ]
  },
  {
   "cell_type": "code",
   "execution_count": 147,
   "metadata": {},
   "outputs": [],
   "source": [
    "test_avail = test_avail[(test_avail.book_week >=1) & (test_avail.book_week <=24)]\n",
    "month_dict = test_avail[['book_month', 'book_week']]\n",
    "month_dict.drop_duplicates(inplace=True)\n",
    "month_dict = dict(zip(month_dict['book_week'], month_dict['book_month']))"
   ]
  },
  {
   "cell_type": "code",
   "execution_count": 42,
   "metadata": {},
   "outputs": [],
   "source": [
    "target_dict = test_avail[['listing_id', 'book_week', 'book_month']]"
   ]
  },
  {
   "cell_type": "code",
   "execution_count": 43,
   "metadata": {},
   "outputs": [],
   "source": [
    "target_dict['id'] = target_dict.apply(lambda x: '-'.join(x.astype(str)), axis=1)"
   ]
  },
  {
   "cell_type": "code",
   "execution_count": 47,
   "metadata": {},
   "outputs": [],
   "source": [
    "target_dict['target'] = test_avail['target']\n",
    "target_dict = dict(zip(target_dict['id'], target_dict['target']))"
   ]
  },
  {
   "cell_type": "code",
   "execution_count": 111,
   "metadata": {},
   "outputs": [],
   "source": [
    "accuracy = []\n",
    "report = []"
   ]
  },
  {
   "cell_type": "markdown",
   "metadata": {},
   "source": [
    "Since our data are updated monthly. Let's calculate the corresponding accuracy rate if I want to book 5 / 10 / 15 / 20 weeks in advance."
   ]
  },
  {
   "cell_type": "code",
   "execution_count": 112,
   "metadata": {},
   "outputs": [],
   "source": [
    "for i in list(range(5, 25, 5)):\n",
    "    test_avail['book_week2'] = test_avail['book_week'] + i\n",
    "    test_avail['book_month2'] = test_avail.book_week2.replace(month_dict)\n",
    "    temp = test_avail.drop(['avail_365', 'avail_60', 'avail_90'], axis = 1)\n",
    "    temp = temp.loc[temp.book_week2<=24]\n",
    "    temp['id'] = temp[['listing_id', 'book_week2', 'book_month2']].apply(lambda x: '-'.join(x.astype(str)), axis=1)\n",
    "    y_temp = temp.id.replace(target_dict)\n",
    "    y_temp = y_temp == 1\n",
    "    temp['book_month'] = temp['book_month2']\n",
    "    temp['book_week'] = temp['book_week2']\n",
    "    temp.drop(['listing_id', 'book_month2', 'book_week2', 'target', 'id'], axis = 1, inplace=True)\n",
    "    for var in ['book_month', 'book_year', 'book_weekday']:\n",
    "        temp = to_int(temp, var)\n",
    "    y_pred = clf.predict(temp)\n",
    "    accuracy.append(metrics.accuracy_score(y_temp, y_pred))\n",
    "    report.append(classification_report(y_temp, y_pred, target_names=['unavailable', 'available']))"
   ]
  },
  {
   "cell_type": "markdown",
   "metadata": {},
   "source": [
    "Accuracy drops to the 70s, this is the true accuracy score of our model, as in reality, we only have access to listing information as of our **booking date**, rather than **check-in date**.\n",
    "\n",
    "As the plot below shows, the earlier we book the listing, the less accurate the model is (from 0.78 to 0.72). The further into the future, the harder to predict. "
   ]
  },
  {
   "cell_type": "code",
   "execution_count": 120,
   "metadata": {},
   "outputs": [
    {
     "data": {
      "text/plain": [
       "<matplotlib.text.Text at 0x166850678d0>"
      ]
     },
     "execution_count": 120,
     "metadata": {},
     "output_type": "execute_result"
    },
    {
     "data": {
      "image/png": "[encoded data removed]",
      "text/plain": [
       "<matplotlib.figure.Figure at 0x16683d7e160>"
      ]
     },
     "metadata": {},
     "output_type": "display_data"
    }
   ],
   "source": [
    "sns.set_style(\"white\")\n",
    "sns.regplot(x=pd.Series([5, 10, 15, 20]), y=pd.Series(accuracy))\n",
    "plt.xlabel('Number of weeks in advance')\n",
    "plt.ylabel('Prediction Accuracy')"
   ]
  },
  {
   "cell_type": "markdown",
   "metadata": {},
   "source": [
    "Take a deeper look at our results. Let i be the number of weeks we book in advance. The table below lists the precision and recall for i = 5/10/15/20."
   ]
  },
  {
   "cell_type": "code",
   "execution_count": 114,
   "metadata": {},
   "outputs": [
    {
     "name": "stdout",
     "output_type": "stream",
     "text": [
      "5\n",
      "             precision    recall  f1-score   support\n",
      "\n",
      "unavailable       0.84      0.84      0.84     37554\n",
      "  available       0.58      0.60      0.59     14420\n",
      "\n",
      "avg / total       0.77      0.77      0.77     51974\n",
      "\n",
      "10\n",
      "             precision    recall  f1-score   support\n",
      "\n",
      "unavailable       0.83      0.82      0.82     27835\n",
      "  available       0.53      0.56      0.54     10495\n",
      "\n",
      "avg / total       0.75      0.74      0.75     38330\n",
      "\n",
      "15\n",
      "             precision    recall  f1-score   support\n",
      "\n",
      "unavailable       0.83      0.81      0.82     18216\n",
      "  available       0.49      0.54      0.51      6427\n",
      "\n",
      "avg / total       0.74      0.74      0.74     24643\n",
      "\n",
      "20\n",
      "             precision    recall  f1-score   support\n",
      "\n",
      "unavailable       0.82      0.79      0.80      8127\n",
      "  available       0.46      0.52      0.48      2821\n",
      "\n",
      "avg / total       0.73      0.72      0.72     10948\n",
      "\n"
     ]
    }
   ],
   "source": [
    "for i in list(range(0, 4)):\n",
    "    print(i*5+5)\n",
    "    print(report[i])"
   ]
  },
  {
   "cell_type": "markdown",
   "metadata": {},
   "source": [
    "Similar to our results above, the model is more accurate in predicting 'unavailability'. When i >= 15, we can only get half our the 'available' cases right. Again, **our model is better at guiding guests to book their apartments in advance.**"
   ]
  },
  {
   "cell_type": "markdown",
   "metadata": {},
   "source": [
    "### B. Feature Importance"
   ]
  },
  {
   "cell_type": "code",
   "execution_count": 30,
   "metadata": {},
   "outputs": [],
   "source": [
    "importance = pd.DataFrame()"
   ]
  },
  {
   "cell_type": "code",
   "execution_count": 32,
   "metadata": {},
   "outputs": [],
   "source": [
    "importance['features'] = X.columns.values\n",
    "importance['importance'] = clf.feature_importances_\n",
    "importance = importance.sort_values(by='importance', ascending=False)"
   ]
  },
  {
   "cell_type": "markdown",
   "metadata": {},
   "source": [
    "#### 15 Most Important Features"
   ]
  },
  {
   "cell_type": "code",
   "execution_count": 41,
   "metadata": {},
   "outputs": [
    {
     "data": {
      "image/png": "[encoded data removed]",
      "text/plain": [
       "<matplotlib.figure.Figure at 0x22d10ee32e8>"
      ]
     },
     "metadata": {},
     "output_type": "display_data"
    }
   ],
   "source": [
    "sns.barplot(y=\"features\", x=\"importance\", data=importance.iloc[0:15,:], palette=\"Greens_d\")"
   ]
  },
  {
   "cell_type": "markdown",
   "metadata": {},
   "source": [
    "#### 15 Most Unimportant Features"
   ]
  },
  {
   "cell_type": "code",
   "execution_count": 43,
   "metadata": {},
   "outputs": [
    {
     "data": {
      "text/plain": [
       "<matplotlib.axes._subplots.AxesSubplot at 0x22d11234390>"
      ]
     },
     "execution_count": 43,
     "metadata": {},
     "output_type": "execute_result"
    },
    {
     "data": {
      "image/png": "[encoded data removed]",
      "text/plain": [
       "<matplotlib.figure.Figure at 0x22d115524a8>"
      ]
     },
     "metadata": {},
     "output_type": "display_data"
    }
   ],
   "source": [
    "sns.barplot(y=\"features\", x=\"importance\", data=importance.iloc[len(importance)-15:len(importance),:], palette=\"Greens_d\")"
   ]
  },
  {
   "cell_type": "markdown",
   "metadata": {},
   "source": [
    "#### 10 Most Important Amenities"
   ]
  },
  {
   "cell_type": "code",
   "execution_count": 203,
   "metadata": {},
   "outputs": [],
   "source": [
    "amenities = importance.iloc[18:43, :]\n",
    "amenities = amenities.sort_values(by='importance', ascending=False)"
   ]
  },
  {
   "cell_type": "code",
   "execution_count": 204,
   "metadata": {},
   "outputs": [
    {
     "data": {
      "text/plain": [
       "<matplotlib.axes._subplots.AxesSubplot at 0x16690a85dd8>"
      ]
     },
     "execution_count": 204,
     "metadata": {},
     "output_type": "execute_result"
    },
    {
     "data": {
      "image/png": "[encoded data removed]",
      "text/plain": [
       "<matplotlib.figure.Figure at 0x16683e380f0>"
      ]
     },
     "metadata": {},
     "output_type": "display_data"
    }
   ],
   "source": [
    "sns.barplot(y=\"features\", x=\"importance\", data=amenities.iloc[len(amenities)-10:len(amenities),:], palette=\"Greens_d\")"
   ]
  },
  {
   "cell_type": "markdown",
   "metadata": {},
   "source": [
    "#### The Neighborhoods that matter"
   ]
  },
  {
   "cell_type": "code",
   "execution_count": 208,
   "metadata": {},
   "outputs": [
    {
     "data": {
      "text/plain": [
       "<matplotlib.axes._subplots.AxesSubplot at 0x16690654908>"
      ]
     },
     "execution_count": 208,
     "metadata": {},
     "output_type": "execute_result"
    },
    {
     "data": {
      "image/png": "[encoded data removed]",
      "text/plain": [
       "<matplotlib.figure.Figure at 0x16683d45fd0>"
      ]
     },
     "metadata": {},
     "output_type": "display_data"
    }
   ],
   "source": [
    "neighborhood = importance.iloc[57:93, :]\n",
    "neighborhood = neighborhood.sort_values(by='importance', ascending=False)\n",
    "sns.barplot(y=\"features\", x=\"importance\", data=neighborhood.iloc[len(neighborhood)-10:len(neighborhood),:], palette=\"Greens_d\")"
   ]
  },
  {
   "cell_type": "markdown",
   "metadata": {},
   "source": [
    "## VI. Model Application\n",
    "\n",
    "### A Guest's Perspective\n",
    "\n",
    "Now let's walk through a real-life application of our model. Suppose we want to book this \"Spacious, clean, quiet suite\" from June 25, 2019 to June 30, 2019 for a work trip. The place is not available for booking yet. We want to know that if we come back in early June 2019, will this place be available for the period of time we want?"
   ]
  },
  {
   "cell_type": "markdown",
   "metadata": {},
   "source": [
    "<img src=\"airbnb example 2.png\">"
   ]
  },
  {
   "cell_type": "markdown",
   "metadata": {},
   "source": [
    "To use our model to answer this question, first, we have to turn this listing's information to something our model can read: a dataframe whose columns match the features in our prediction model. The table below summarises the key information used by our model. "
   ]
  },
  {
   "cell_type": "markdown",
   "metadata": {},
   "source": [
    "<img src=\"airbnb listing table2.png\" width= \"500\">"
   ]
  },
  {
   "cell_type": "markdown",
   "metadata": {},
   "source": [
    "Since we don't know what the per-night price will be in June 2019, or how many reviews this apartment will receive by that time, we do our best to make an educated guess. For June 25, 2018, the host sets the price to be $115, similar to the prices at similar time periods in 2016 and 2017, so we use the average price of the historical data (Tues ~ Sun, the 26th week of the 2016 and 2017) to be the hypothetical price. As of March 2013, the host has been on Airbnb for exactly 5 years with 73 reviews, roughly 15 reviews per year; so we assume by June 2019, she will receive 90 reviews. The tangible features of the listing, such as # of bathroom/bedroom, property type, amenities and neighborhood, are expected to stay the same. \n",
    "\n",
    "The test set for June 25 2019 ~ June 30 2019 is loaded below. Let's take a look at the data frame."
   ]
  },
  {
   "cell_type": "code",
   "execution_count": 211,
   "metadata": {},
   "outputs": [],
   "source": [
    "real_case_whole = pd.read_csv('testing_whole_summer.csv')"
   ]
  },
  {
   "cell_type": "code",
   "execution_count": 212,
   "metadata": {},
   "outputs": [],
   "source": [
    "alltest = allData_avail[(allData_avail.listing_id == 4215907) & (allData_avail.book_week>=23) & (allData_avail.book_week<=35)]\n",
    "price_hypo = alltest.groupby(['book_week', 'book_weekday'])['price'].mean().reset_index().price\n",
    "real_case_whole['price'] = price_hypo.copy()"
   ]
  },
  {
   "cell_type": "code",
   "execution_count": 141,
   "metadata": {},
   "outputs": [],
   "source": [
    "real_case = real_case_whole[(real_case_whole.book_week==26) & (real_case_whole.book_weekday>0)]"
   ]
  },
  {
   "cell_type": "markdown",
   "metadata": {},
   "source": [
    "All the date-related variables (holiday, book_month, book_weekday, weekend, book_week, host_for) are tailored for our planned booking date."
   ]
  },
  {
   "cell_type": "markdown",
   "metadata": {},
   "source": [
    "Train the XGBoost Model using all available data we have (September 2015 to September 2017)."
   ]
  },
  {
   "cell_type": "code",
   "execution_count": 10,
   "metadata": {},
   "outputs": [
    {
     "data": {
      "text/plain": [
       "XGBClassifier(base_score=0.5, booster='gbtree', colsample_bylevel=1,\n",
       "       colsample_bytree=1, gamma=0, learning_rate=0.1, max_delta_step=0,\n",
       "       max_depth=10, min_child_weight=1, missing=None, n_estimators=160,\n",
       "       n_jobs=-1, nthread=None, objective='binary:logistic',\n",
       "       random_state=0, reg_alpha=0, reg_lambda=1, scale_pos_weight=1,\n",
       "       seed=None, silent=True, subsample=1)"
      ]
     },
     "execution_count": 10,
     "metadata": {},
     "output_type": "execute_result"
    }
   ],
   "source": [
    "X = allData.drop('target', axis=1)\n",
    "y = allData['target']\n",
    "clf = xgb.XGBClassifier(n_estimators= 160, max_depth= 10, objective= 'binary:logistic', n_jobs= -1)\n",
    "for var in ['book_month', 'book_year', 'book_weekday']:\n",
    "    X = to_int(X, var)\n",
    "clf.fit(X, y)"
   ]
  },
  {
   "cell_type": "markdown",
   "metadata": {},
   "source": [
    "\n",
    "\n",
    "**Now it's time for prediction!** Fit the trained model on our real case test set."
   ]
  },
  {
   "cell_type": "code",
   "execution_count": 142,
   "metadata": {},
   "outputs": [],
   "source": [
    "real_case_pred = clf.predict(real_case)"
   ]
  },
  {
   "cell_type": "code",
   "execution_count": 143,
   "metadata": {},
   "outputs": [
    {
     "data": {
      "text/plain": [
       "array([0, 0, 0, 0, 0, 0], dtype=int8)"
      ]
     },
     "execution_count": 143,
     "metadata": {},
     "output_type": "execute_result"
    }
   ],
   "source": [
    "real_case_pred"
   ]
  },
  {
   "cell_type": "markdown",
   "metadata": {},
   "source": [
    "The prediction result returns six '0's, indicating that all six days of June 25 2019 to June 30 2019 will be booked! So it is better for the guest to book this 'Spacious, clean and quiet suite' way in advance: our model shows that it is a hot sale!\n",
    "\n",
    "**Note:** One limitation of this model is that it is unable to predict the availability status of a listing dynamically. Because we don't have data on how the availability calendar of a listing has changed over time, i.e., exactly on what day has a booking/cancellation taken place, we are unable to predict how long do I need to book in advance so that it is guaranteed that I can get this place. Answering this question requires scraping availability calendar daily from Airbnb, a laborious task which is unlikely to be completed by anyone but Airbnb (to be fair, Airbnb does not need to do anything in particular; they own these data). This may potentially be a good feature for Airbnb's hosts: by knowing that when their listing will be booked (before the actual booking takes place), hosts can make financial plans in advance and figure out ways to boost booking rate for unpopular season."
   ]
  },
  {
   "cell_type": "markdown",
   "metadata": {},
   "source": [
    "### A Host's Perspective\n",
    "\n",
    "Suppose LayKoon, the host of this listing, is using our model. She wants the model to answer the following questions:\n",
    "\n",
    " - How's my place's booking rate for the summer?\n",
    " - How will the booking rate/total revenue change if I adjust the price?\n",
    " \n",
    "Let's first predict LayKoon's place's availability for summer 2019. Similar to the example above, we construct a dataframe whose columns match the features in the model. For simplicity, here we define summer time to be June 3 2019 ~ September 1 2019 (week 23 ~ week 35)."
   ]
  },
  {
   "cell_type": "code",
   "execution_count": 155,
   "metadata": {},
   "outputs": [
    {
     "data": {
      "text/html": [
       "<div>\n",
       "<table border=\"1\" class=\"dataframe\">\n",
       "  <thead>\n",
       "    <tr style=\"text-align: right;\">\n",
       "      <th></th>\n",
       "      <th>accommodates</th>\n",
       "      <th>bathrooms</th>\n",
       "      <th>bedrooms</th>\n",
       "      <th>beds</th>\n",
       "      <th>calculated_host_listings_count</th>\n",
       "      <th>extra_people</th>\n",
       "      <th>guests_included</th>\n",
       "      <th>host_has_profile_pic</th>\n",
       "      <th>host_identity_verified</th>\n",
       "      <th>host_is_superhost</th>\n",
       "      <th>...</th>\n",
       "      <th>has_transit</th>\n",
       "      <th>has_host</th>\n",
       "      <th>summary_len</th>\n",
       "      <th>holiday</th>\n",
       "      <th>host_for</th>\n",
       "      <th>book_month</th>\n",
       "      <th>book_year</th>\n",
       "      <th>book_weekday</th>\n",
       "      <th>weekend</th>\n",
       "      <th>book_week</th>\n",
       "    </tr>\n",
       "  </thead>\n",
       "  <tbody>\n",
       "    <tr>\n",
       "      <th>0</th>\n",
       "      <td>2</td>\n",
       "      <td>1</td>\n",
       "      <td>1</td>\n",
       "      <td>1</td>\n",
       "      <td>1</td>\n",
       "      <td>25</td>\n",
       "      <td>1</td>\n",
       "      <td>True</td>\n",
       "      <td>True</td>\n",
       "      <td>True</td>\n",
       "      <td>...</td>\n",
       "      <td>0</td>\n",
       "      <td>0</td>\n",
       "      <td>394</td>\n",
       "      <td>False</td>\n",
       "      <td>75</td>\n",
       "      <td>6</td>\n",
       "      <td>2019</td>\n",
       "      <td>0</td>\n",
       "      <td>False</td>\n",
       "      <td>26</td>\n",
       "    </tr>\n",
       "    <tr>\n",
       "      <th>1</th>\n",
       "      <td>2</td>\n",
       "      <td>1</td>\n",
       "      <td>1</td>\n",
       "      <td>1</td>\n",
       "      <td>1</td>\n",
       "      <td>25</td>\n",
       "      <td>1</td>\n",
       "      <td>True</td>\n",
       "      <td>True</td>\n",
       "      <td>True</td>\n",
       "      <td>...</td>\n",
       "      <td>0</td>\n",
       "      <td>0</td>\n",
       "      <td>394</td>\n",
       "      <td>False</td>\n",
       "      <td>75</td>\n",
       "      <td>6</td>\n",
       "      <td>2019</td>\n",
       "      <td>1</td>\n",
       "      <td>False</td>\n",
       "      <td>26</td>\n",
       "    </tr>\n",
       "    <tr>\n",
       "      <th>2</th>\n",
       "      <td>2</td>\n",
       "      <td>1</td>\n",
       "      <td>1</td>\n",
       "      <td>1</td>\n",
       "      <td>1</td>\n",
       "      <td>25</td>\n",
       "      <td>1</td>\n",
       "      <td>True</td>\n",
       "      <td>True</td>\n",
       "      <td>True</td>\n",
       "      <td>...</td>\n",
       "      <td>0</td>\n",
       "      <td>0</td>\n",
       "      <td>394</td>\n",
       "      <td>False</td>\n",
       "      <td>75</td>\n",
       "      <td>6</td>\n",
       "      <td>2019</td>\n",
       "      <td>2</td>\n",
       "      <td>False</td>\n",
       "      <td>26</td>\n",
       "    </tr>\n",
       "    <tr>\n",
       "      <th>3</th>\n",
       "      <td>2</td>\n",
       "      <td>1</td>\n",
       "      <td>1</td>\n",
       "      <td>1</td>\n",
       "      <td>1</td>\n",
       "      <td>25</td>\n",
       "      <td>1</td>\n",
       "      <td>True</td>\n",
       "      <td>True</td>\n",
       "      <td>True</td>\n",
       "      <td>...</td>\n",
       "      <td>0</td>\n",
       "      <td>0</td>\n",
       "      <td>394</td>\n",
       "      <td>False</td>\n",
       "      <td>75</td>\n",
       "      <td>6</td>\n",
       "      <td>2019</td>\n",
       "      <td>3</td>\n",
       "      <td>False</td>\n",
       "      <td>26</td>\n",
       "    </tr>\n",
       "    <tr>\n",
       "      <th>4</th>\n",
       "      <td>2</td>\n",
       "      <td>1</td>\n",
       "      <td>1</td>\n",
       "      <td>1</td>\n",
       "      <td>1</td>\n",
       "      <td>25</td>\n",
       "      <td>1</td>\n",
       "      <td>True</td>\n",
       "      <td>True</td>\n",
       "      <td>True</td>\n",
       "      <td>...</td>\n",
       "      <td>0</td>\n",
       "      <td>0</td>\n",
       "      <td>394</td>\n",
       "      <td>False</td>\n",
       "      <td>75</td>\n",
       "      <td>6</td>\n",
       "      <td>2019</td>\n",
       "      <td>4</td>\n",
       "      <td>True</td>\n",
       "      <td>26</td>\n",
       "    </tr>\n",
       "    <tr>\n",
       "      <th>5</th>\n",
       "      <td>2</td>\n",
       "      <td>1</td>\n",
       "      <td>1</td>\n",
       "      <td>1</td>\n",
       "      <td>1</td>\n",
       "      <td>25</td>\n",
       "      <td>1</td>\n",
       "      <td>True</td>\n",
       "      <td>True</td>\n",
       "      <td>True</td>\n",
       "      <td>...</td>\n",
       "      <td>0</td>\n",
       "      <td>0</td>\n",
       "      <td>394</td>\n",
       "      <td>False</td>\n",
       "      <td>75</td>\n",
       "      <td>6</td>\n",
       "      <td>2019</td>\n",
       "      <td>5</td>\n",
       "      <td>True</td>\n",
       "      <td>26</td>\n",
       "    </tr>\n",
       "    <tr>\n",
       "      <th>6</th>\n",
       "      <td>2</td>\n",
       "      <td>1</td>\n",
       "      <td>1</td>\n",
       "      <td>1</td>\n",
       "      <td>1</td>\n",
       "      <td>25</td>\n",
       "      <td>1</td>\n",
       "      <td>True</td>\n",
       "      <td>True</td>\n",
       "      <td>True</td>\n",
       "      <td>...</td>\n",
       "      <td>0</td>\n",
       "      <td>0</td>\n",
       "      <td>394</td>\n",
       "      <td>False</td>\n",
       "      <td>75</td>\n",
       "      <td>6</td>\n",
       "      <td>2019</td>\n",
       "      <td>6</td>\n",
       "      <td>False</td>\n",
       "      <td>26</td>\n",
       "    </tr>\n",
       "    <tr>\n",
       "      <th>7</th>\n",
       "      <td>2</td>\n",
       "      <td>1</td>\n",
       "      <td>1</td>\n",
       "      <td>1</td>\n",
       "      <td>1</td>\n",
       "      <td>25</td>\n",
       "      <td>1</td>\n",
       "      <td>True</td>\n",
       "      <td>True</td>\n",
       "      <td>True</td>\n",
       "      <td>...</td>\n",
       "      <td>0</td>\n",
       "      <td>0</td>\n",
       "      <td>394</td>\n",
       "      <td>False</td>\n",
       "      <td>75</td>\n",
       "      <td>6</td>\n",
       "      <td>2019</td>\n",
       "      <td>0</td>\n",
       "      <td>False</td>\n",
       "      <td>23</td>\n",
       "    </tr>\n",
       "  </tbody>\n",
       "</table>\n",
       "<p>8 rows × 123 columns</p>\n",
       "</div>"
      ],
      "text/plain": [
       "   accommodates  bathrooms  bedrooms  beds  calculated_host_listings_count  \\\n",
       "0             2          1         1     1                               1   \n",
       "1             2          1         1     1                               1   \n",
       "2             2          1         1     1                               1   \n",
       "3             2          1         1     1                               1   \n",
       "4             2          1         1     1                               1   \n",
       "5             2          1         1     1                               1   \n",
       "6             2          1         1     1                               1   \n",
       "7             2          1         1     1                               1   \n",
       "\n",
       "   extra_people  guests_included host_has_profile_pic host_identity_verified  \\\n",
       "0            25                1                 True                   True   \n",
       "1            25                1                 True                   True   \n",
       "2            25                1                 True                   True   \n",
       "3            25                1                 True                   True   \n",
       "4            25                1                 True                   True   \n",
       "5            25                1                 True                   True   \n",
       "6            25                1                 True                   True   \n",
       "7            25                1                 True                   True   \n",
       "\n",
       "  host_is_superhost    ...      has_transit  has_host  summary_len  holiday  \\\n",
       "0              True    ...                0         0          394    False   \n",
       "1              True    ...                0         0          394    False   \n",
       "2              True    ...                0         0          394    False   \n",
       "3              True    ...                0         0          394    False   \n",
       "4              True    ...                0         0          394    False   \n",
       "5              True    ...                0         0          394    False   \n",
       "6              True    ...                0         0          394    False   \n",
       "7              True    ...                0         0          394    False   \n",
       "\n",
       "   host_for book_month book_year book_weekday  weekend  book_week  \n",
       "0        75          6      2019            0    False         26  \n",
       "1        75          6      2019            1    False         26  \n",
       "2        75          6      2019            2    False         26  \n",
       "3        75          6      2019            3    False         26  \n",
       "4        75          6      2019            4     True         26  \n",
       "5        75          6      2019            5     True         26  \n",
       "6        75          6      2019            6    False         26  \n",
       "7        75          6      2019            0    False         23  \n",
       "\n",
       "[8 rows x 123 columns]"
      ]
     },
     "execution_count": 155,
     "metadata": {},
     "output_type": "execute_result"
    }
   ],
   "source": [
    "real_case_whole.head(n=8)"
   ]
  },
  {
   "cell_type": "code",
   "execution_count": 5,
   "metadata": {},
   "outputs": [
    {
     "data": {
      "text/plain": [
       "(91, 123)"
      ]
     },
     "execution_count": 5,
     "metadata": {},
     "output_type": "execute_result"
    }
   ],
   "source": [
    "real_case_whole.shape"
   ]
  },
  {
   "cell_type": "markdown",
   "metadata": {},
   "source": [
    "The test set has 91 rows, which correspond to 91 days in the set period (week 23 ~ week 35). For initial prediction of booking rate, we set price to be the average price of the historical data (week 23 ~ week 35 of 2016 and 2017). The hypothetical price was chosen out of two considerations: 1). To account for price variation across weekdays and weeks; 2). After examing the historical data, summer prices in 2016 and 2017 follow a similar trend. It is highly likely that the host will set the price similarly in 2019. We assume LayKoon receives 90 reviews by the end of June, 95 by the end of July and 100 by the end of August. \n",
    "\n",
    "**Time for prediction!** Let's fit the trained model to our test set."
   ]
  },
  {
   "cell_type": "code",
   "execution_count": 187,
   "metadata": {},
   "outputs": [],
   "source": [
    "real_whole_pred = clf.predict(real_case_whole)"
   ]
  },
  {
   "cell_type": "code",
   "execution_count": 188,
   "metadata": {},
   "outputs": [
    {
     "data": {
      "text/plain": [
       "array([0, 0, 0, 0, 0, 0, 0, 0, 0, 0, 0, 0, 0, 0, 0, 0, 1, 0, 0, 0, 0, 0,\n",
       "       0, 1, 1, 1, 1, 0, 0, 0, 0, 0, 0, 0, 0, 0, 0, 0, 0, 0, 1, 1, 1, 1,\n",
       "       1, 1, 1, 1, 1, 1, 1, 1, 1, 1, 1, 1, 1, 1, 1, 0, 0, 0, 0, 0, 1, 1,\n",
       "       0, 0, 0, 0, 0, 0, 0, 0, 0, 0, 1, 1, 1, 0, 1, 1, 1, 1, 1, 1, 1, 1,\n",
       "       0, 0, 0], dtype=int8)"
      ]
     },
     "execution_count": 188,
     "metadata": {},
     "output_type": "execute_result"
    }
   ],
   "source": [
    "real_whole_pred"
   ]
  },
  {
   "cell_type": "markdown",
   "metadata": {},
   "source": [
    "The detailed prediction for every single day is shown above. (Note: the dataframe real_case_whole starts from rows of week 26, followed by rows of week 23~25, week 27~35. So the first seven 0s are prediction results for week 26, which is in line with the result in 'A Guest's Perspective')\n",
    "\n",
    "We can calculate **the booking rate** of LayKoon's place, which is 59.3%."
   ]
  },
  {
   "cell_type": "code",
   "execution_count": 189,
   "metadata": {},
   "outputs": [
    {
     "data": {
      "text/plain": [
       "0.5934065934065934"
      ]
     },
     "execution_count": 189,
     "metadata": {},
     "output_type": "execute_result"
    }
   ],
   "source": [
    "# Calculate Booking Rate\n",
    "1 - sum(real_whole_pred)/91"
   ]
  },
  {
   "cell_type": "markdown",
   "metadata": {},
   "source": [
    "Let's then calcualte LayKoon's **projected revenue** for Summer 2019."
   ]
  },
  {
   "cell_type": "code",
   "execution_count": 192,
   "metadata": {},
   "outputs": [],
   "source": [
    "di1 = {1: \"a\", 0: \"b\"}\n",
    "di2 = {\"a\": 0, \"b\":1}\n",
    "def calc_revenue(series):\n",
    "    series = pd.DataFrame(series)\n",
    "    series['price'] = real_case_whole['price']\n",
    "    series.rename(columns={0: \"pred\"}, inplace=True)\n",
    "    # Reverse the 0/1 mapping of target variable. Let y=0 when 'available' and y=1 when 'unavailable', \n",
    "        # so that it is easier for listing value calculation.\n",
    "    series = series.replace({\"pred\": di1})\n",
    "    series = series.replace({\"pred\": di2})\n",
    "    return(sum(series['pred']*series['price']))"
   ]
  },
  {
   "cell_type": "code",
   "execution_count": 193,
   "metadata": {},
   "outputs": [
    {
     "data": {
      "text/plain": [
       "6310.181074766358"
      ]
     },
     "execution_count": 193,
     "metadata": {},
     "output_type": "execute_result"
    }
   ],
   "source": [
    "calc_revenue(real_whole_pred)"
   ]
  },
  {
   "cell_type": "markdown",
   "metadata": {},
   "source": [
    "Our model predicts that LayKoon's place can earn **$6310** in Summer 2019!\n",
    "\n",
    "Naturally, we come to this next question: how can LayKoon increase her revenue? **Let's see how her total revenue changes with the price.** We show two examples here.\n",
    "\n",
    "- Price decrease\n",
    "\n",
    "Say we decrease the price by 10 dollars."
   ]
  },
  {
   "cell_type": "code",
   "execution_count": 363,
   "metadata": {},
   "outputs": [],
   "source": [
    "real_case_whole['price'] = price_hypo - 10"
   ]
  },
  {
   "cell_type": "code",
   "execution_count": 364,
   "metadata": {},
   "outputs": [],
   "source": [
    "pred_adj_price = clf.predict(real_case_whole)"
   ]
  },
  {
   "cell_type": "code",
   "execution_count": 365,
   "metadata": {},
   "outputs": [
    {
     "data": {
      "text/plain": [
       "0.29670329670329665"
      ]
     },
     "execution_count": 365,
     "metadata": {},
     "output_type": "execute_result"
    }
   ],
   "source": [
    "1-sum(pred_adj_price)/91"
   ]
  },
  {
   "cell_type": "code",
   "execution_count": 366,
   "metadata": {},
   "outputs": [
    {
     "data": {
      "text/plain": [
       "2987.2535046728967"
      ]
     },
     "execution_count": 366,
     "metadata": {},
     "output_type": "execute_result"
    }
   ],
   "source": [
    "calc_revenue(pred_adj_price)"
   ]
  },
  {
   "cell_type": "markdown",
   "metadata": {},
   "source": [
    "It appears that the booking rate actually decreases to 30%, as well as the total revenue. \n",
    "\n",
    "- Price increase"
   ]
  },
  {
   "cell_type": "code",
   "execution_count": 367,
   "metadata": {},
   "outputs": [
    {
     "data": {
      "text/plain": [
       "0.46153846153846156"
      ]
     },
     "execution_count": 367,
     "metadata": {},
     "output_type": "execute_result"
    }
   ],
   "source": [
    "# By 25%\n",
    "real_case_whole['price'] = price_hypo * 1.25\n",
    "pred_adj_price = clf.predict(real_case_whole)\n",
    "1-sum(pred_adj_price)/91"
   ]
  },
  {
   "cell_type": "code",
   "execution_count": 368,
   "metadata": {},
   "outputs": [
    {
     "data": {
      "text/plain": [
       "6189.998539719625"
      ]
     },
     "execution_count": 368,
     "metadata": {},
     "output_type": "execute_result"
    }
   ],
   "source": [
    "calc_revenue(pred_adj_price)"
   ]
  },
  {
   "cell_type": "code",
   "execution_count": 381,
   "metadata": {},
   "outputs": [
    {
     "data": {
      "text/plain": [
       "0.4725274725274725"
      ]
     },
     "execution_count": 381,
     "metadata": {},
     "output_type": "execute_result"
    }
   ],
   "source": [
    "# By 40%\n",
    "real_case_whole['price'] = price_hypo * 1.4\n",
    "pred_adj_price = clf.predict(real_case_whole)\n",
    "1-sum(pred_adj_price)/91"
   ]
  },
  {
   "cell_type": "code",
   "execution_count": 382,
   "metadata": {},
   "outputs": [
    {
     "data": {
      "text/plain": [
       "7154.976401869164"
      ]
     },
     "execution_count": 382,
     "metadata": {},
     "output_type": "execute_result"
    }
   ],
   "source": [
    "calc_revenue(pred_adj_price)"
   ]
  },
  {
   "cell_type": "markdown",
   "metadata": {},
   "source": [
    "As we increase price, booking rate drops. So we need a relatively large increase in order to make up for the drop in booking rate. In our case, it is around 40%.\n",
    "\n",
    "To sum up, if LayKoon keeps her current pricing-strategy, her apartment is expected to be 60% booked for Summer 2019 and earn LayKoon more than $6000. Historical data show that LayKoon's strategy has been pretty consistent and conservative. It is worth for her to be a bit more aggressive and increase the price for at least a few weeks in the summer - there is a high chance she can earn more. "
   ]
  },
  {
   "cell_type": "markdown",
   "metadata": {},
   "source": [
    "## VII. Conclusion\n",
    "\n",
    "In this project, we used XGBoost to build a binary prediction model that predicts Airbnb listings' availability in San Francisco. Monthly-scraped Airbnb data from September 2015 to September 2017 are used to train and test the model. The model achieves relatively high accuracy score (95.85% using standard 4-fold CV, 78% in a more realistic setting (see 'A Real Life Scenario' for more details)) and can serve as a useful tool for Airbnb hosts and guests in guiding their renting/booking strategies. \n",
    "\n",
    "For future data scientists who are interested in improving this model, there are a few pathways worth exploring: 1). get more data and train the model for a longer period of time / for other cities. At the early stage of this project, San Francisco was the most frequently updated city on insideairbnb.com and we could only go as far back as September 2015. Given more time, the data availability issue will certainly be improved and more interesting models can be built then. 2). As noted in the Model Application section, one limitation of this model is its inability to do dynamic prediction. While we do know how the availability calendar changes on a monthly basis, it is not very useful for real-life application. Hopefully, Airbnb could share some of its availability data with the public, a lot more interesting projects can be done then. Or, Airbnb can consider introducing this 'Booking Projection' feature itself. By knowing when a listing will be booked (before the actual booking takes place), hosts / guests can plan their finance / travel much more wisely. 3). While we have pretty detailed geographic information of the listings, this model did not do much with it other than turning them into dummy variables and throwing it into the model. With the appropriate GIS tool/data, spatial analysis can be done and integrated to the model to obtain location-based insights, so that we can answer questions like 'can I attract more guests if my place is next to the BART/good restaurants/park...etc.?'"
   ]
  },
  {
   "cell_type": "markdown",
   "metadata": {},
   "source": [
    "## VIII. Appendix"
   ]
  },
  {
   "cell_type": "markdown",
   "metadata": {},
   "source": [
    "### A complete list of features"
   ]
  },
  {
   "cell_type": "code",
   "execution_count": 39,
   "metadata": {
    "collapsed": false
   },
   "outputs": [
    {
     "data": {
      "text/plain": [
       "array(['accommodates', 'bathrooms', 'bedrooms', 'beds',\n",
       "       'calculated_host_listings_count', 'extra_people', 'guests_included',\n",
       "       'host_has_profile_pic', 'host_identity_verified',\n",
       "       'host_is_superhost', 'host_listings_count',\n",
       "       'host_total_listings_count', 'maximum_nights', 'minimum_nights',\n",
       "       'number_of_reviews', 'require_guest_phone_verification',\n",
       "       'require_guest_profile_picture', 'requires_license', 'tv',\n",
       "       'internet', 'kitchen', 'pets live on this property', 'dog(s)',\n",
       "       'indoor fireplace', 'heating', 'family/kid friendly',\n",
       "       'smoke detector', 'carbon monoxide detector', 'essentials',\n",
       "       'washer', 'dryer', 'buzzer/wireless intercom', 'first aid kit',\n",
       "       'safety card', 'fire extinguisher', 'shampoo',\n",
       "       'free parking on premises', 'breakfast', '24-hour check-in',\n",
       "       'hangers', 'hair dryer', 'iron', 'laptop friendly workspace',\n",
       "       'self check-in', 'cancel_flexible', 'cancel_moderate',\n",
       "       'cancel_strict', 'cancel_super_strict_30', 'cancel_super_strict_60',\n",
       "       'bed_Airbed', 'bed_Couch', 'bed_Futon', 'bed_Pull-out Sofa',\n",
       "       'bed_Real Bed', 'room_Entire home/apt', 'room_Private room',\n",
       "       'room_Shared room', 'neigh_Bayview', 'neigh_Bernal Heights',\n",
       "       'neigh_Castro/Upper Market', 'neigh_Chinatown',\n",
       "       'neigh_Crocker Amazon', 'neigh_Diamond Heights',\n",
       "       'neigh_Downtown/Civic Center', 'neigh_Excelsior',\n",
       "       'neigh_Financial District', 'neigh_Glen Park',\n",
       "       'neigh_Golden Gate Park', 'neigh_Haight Ashbury',\n",
       "       'neigh_Inner Richmond', 'neigh_Inner Sunset', 'neigh_Lakeshore',\n",
       "       'neigh_Marina', 'neigh_Mission', 'neigh_Nob Hill',\n",
       "       'neigh_Noe Valley', 'neigh_North Beach', 'neigh_Ocean View',\n",
       "       'neigh_Outer Mission', 'neigh_Outer Richmond', 'neigh_Outer Sunset',\n",
       "       'neigh_Pacific Heights', 'neigh_Parkside', 'neigh_Potrero Hill',\n",
       "       'neigh_Presidio', 'neigh_Presidio Heights', 'neigh_Russian Hill',\n",
       "       'neigh_Seacliff', 'neigh_South of Market',\n",
       "       'neigh_Treasure Island/YBI', 'neigh_Twin Peaks',\n",
       "       'neigh_Visitacion Valley', 'neigh_West of Twin Peaks',\n",
       "       'neigh_Western Addition', 'proty_Apartment',\n",
       "       'proty_Bed & Breakfast', 'proty_Cabin', 'proty_Camper/RV',\n",
       "       'proty_Cave', 'proty_Condominium', 'proty_Dorm',\n",
       "       'proty_Entire Floor', 'proty_House', 'proty_In-law', 'proty_Loft',\n",
       "       'proty_Other', 'proty_Timeshare', 'proty_Townhouse', 'insboo_f',\n",
       "       'insboo_t', 'price', 'has_summary', 'has_deposit', 'has_transit',\n",
       "       'has_host', 'summary_len', 'holiday', 'host_for', 'book_month',\n",
       "       'book_year', 'book_day', 'book_weekday', 'weekend', 'book_week'], dtype=object)"
      ]
     },
     "execution_count": 39,
     "metadata": {},
     "output_type": "execute_result"
    }
   ],
   "source": [
    "features.columns.values"
   ]
  }
 ],
 "metadata": {
  "kernelspec": {
   "display_name": "Python 3",
   "language": "python",
   "name": "python3"
  },
  "language_info": {
   "codemirror_mode": {
    "name": "ipython",
    "version": 3
   },
   "file_extension": ".py",
   "mimetype": "text/x-python",
   "name": "python",
   "nbconvert_exporter": "python",
   "pygments_lexer": "ipython3",
   "version": "3.6.0"
  }
 },
 "nbformat": 4,
 "nbformat_minor": 2
}
