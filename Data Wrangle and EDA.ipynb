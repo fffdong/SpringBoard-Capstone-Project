{
 "cells": [
  {
   "cell_type": "code",
   "execution_count": 154,
   "metadata": {
    "collapsed": true
   },
   "outputs": [],
   "source": [
    "import os\n",
    "import pandas as pd\n",
    "import numpy as np\n",
    "import datetime\n",
    "import matplotlib\n",
    "import matplotlib.pyplot as plt\n",
    "from matplotlib.ticker import FuncFormatter\n",
    "\n",
    "%matplotlib inline\n",
    "\n",
    "os.chdir('C:/Users/fando/Box Sync/Springboard/Capstone Project/Data')"
   ]
  },
  {
   "cell_type": "code",
   "execution_count": 64,
   "metadata": {
    "collapsed": true
   },
   "outputs": [],
   "source": [
    "dtype_dict = np.load('dtype_dict_processed.npy').item()\n",
    "allData = pd.read_csv('allData_processed.txt', sep=\" \", dtype = dtype_dict, encoding = \"ISO-8859-1\")"
   ]
  },
  {
   "cell_type": "code",
   "execution_count": 65,
   "metadata": {
    "collapsed": false
   },
   "outputs": [
    {
     "data": {
      "text/html": [
       "<div>\n",
       "<table border=\"1\" class=\"dataframe\">\n",
       "  <thead>\n",
       "    <tr style=\"text-align: right;\">\n",
       "      <th></th>\n",
       "      <th>access</th>\n",
       "      <th>accommodates</th>\n",
       "      <th>amenities</th>\n",
       "      <th>availability_30</th>\n",
       "      <th>availability_365</th>\n",
       "      <th>availability_60</th>\n",
       "      <th>availability_90</th>\n",
       "      <th>available</th>\n",
       "      <th>bathrooms</th>\n",
       "      <th>bedrooms</th>\n",
       "      <th>...</th>\n",
       "      <th>proty_Loft</th>\n",
       "      <th>proty_Other</th>\n",
       "      <th>proty_Timeshare</th>\n",
       "      <th>proty_Townhouse</th>\n",
       "      <th>insboo_f</th>\n",
       "      <th>insboo_t</th>\n",
       "      <th>avail_365</th>\n",
       "      <th>avail_60</th>\n",
       "      <th>avail_90</th>\n",
       "      <th>price</th>\n",
       "    </tr>\n",
       "  </thead>\n",
       "  <tbody>\n",
       "    <tr>\n",
       "      <th>0</th>\n",
       "      <td>NaN</td>\n",
       "      <td>2</td>\n",
       "      <td>{TV,\"Cable TV\",Internet,\"Wireless Internet\",Ki...</td>\n",
       "      <td>5</td>\n",
       "      <td>312</td>\n",
       "      <td>12</td>\n",
       "      <td>42</td>\n",
       "      <td>0</td>\n",
       "      <td>1.0</td>\n",
       "      <td>1.0</td>\n",
       "      <td>...</td>\n",
       "      <td>0</td>\n",
       "      <td>0</td>\n",
       "      <td>0</td>\n",
       "      <td>0</td>\n",
       "      <td>1</td>\n",
       "      <td>0</td>\n",
       "      <td>0.854795</td>\n",
       "      <td>0.2</td>\n",
       "      <td>0.466667</td>\n",
       "      <td>130.876344</td>\n",
       "    </tr>\n",
       "    <tr>\n",
       "      <th>1</th>\n",
       "      <td>NaN</td>\n",
       "      <td>2</td>\n",
       "      <td>{TV,\"Cable TV\",Internet,\"Wireless Internet\",Ki...</td>\n",
       "      <td>5</td>\n",
       "      <td>312</td>\n",
       "      <td>12</td>\n",
       "      <td>42</td>\n",
       "      <td>0</td>\n",
       "      <td>1.0</td>\n",
       "      <td>1.0</td>\n",
       "      <td>...</td>\n",
       "      <td>0</td>\n",
       "      <td>0</td>\n",
       "      <td>0</td>\n",
       "      <td>0</td>\n",
       "      <td>1</td>\n",
       "      <td>0</td>\n",
       "      <td>0.854795</td>\n",
       "      <td>0.2</td>\n",
       "      <td>0.466667</td>\n",
       "      <td>130.876344</td>\n",
       "    </tr>\n",
       "    <tr>\n",
       "      <th>2</th>\n",
       "      <td>NaN</td>\n",
       "      <td>2</td>\n",
       "      <td>{TV,\"Cable TV\",Internet,\"Wireless Internet\",Ki...</td>\n",
       "      <td>5</td>\n",
       "      <td>312</td>\n",
       "      <td>12</td>\n",
       "      <td>42</td>\n",
       "      <td>0</td>\n",
       "      <td>1.0</td>\n",
       "      <td>1.0</td>\n",
       "      <td>...</td>\n",
       "      <td>0</td>\n",
       "      <td>0</td>\n",
       "      <td>0</td>\n",
       "      <td>0</td>\n",
       "      <td>1</td>\n",
       "      <td>0</td>\n",
       "      <td>0.854795</td>\n",
       "      <td>0.2</td>\n",
       "      <td>0.466667</td>\n",
       "      <td>130.876344</td>\n",
       "    </tr>\n",
       "    <tr>\n",
       "      <th>3</th>\n",
       "      <td>NaN</td>\n",
       "      <td>2</td>\n",
       "      <td>{TV,\"Cable TV\",Internet,\"Wireless Internet\",Ki...</td>\n",
       "      <td>5</td>\n",
       "      <td>312</td>\n",
       "      <td>12</td>\n",
       "      <td>42</td>\n",
       "      <td>0</td>\n",
       "      <td>1.0</td>\n",
       "      <td>1.0</td>\n",
       "      <td>...</td>\n",
       "      <td>0</td>\n",
       "      <td>0</td>\n",
       "      <td>0</td>\n",
       "      <td>0</td>\n",
       "      <td>1</td>\n",
       "      <td>0</td>\n",
       "      <td>0.854795</td>\n",
       "      <td>0.2</td>\n",
       "      <td>0.466667</td>\n",
       "      <td>130.876344</td>\n",
       "    </tr>\n",
       "    <tr>\n",
       "      <th>4</th>\n",
       "      <td>NaN</td>\n",
       "      <td>2</td>\n",
       "      <td>{TV,\"Cable TV\",Internet,\"Wireless Internet\",Ki...</td>\n",
       "      <td>5</td>\n",
       "      <td>312</td>\n",
       "      <td>12</td>\n",
       "      <td>42</td>\n",
       "      <td>0</td>\n",
       "      <td>1.0</td>\n",
       "      <td>1.0</td>\n",
       "      <td>...</td>\n",
       "      <td>0</td>\n",
       "      <td>0</td>\n",
       "      <td>0</td>\n",
       "      <td>0</td>\n",
       "      <td>1</td>\n",
       "      <td>0</td>\n",
       "      <td>0.854795</td>\n",
       "      <td>0.2</td>\n",
       "      <td>0.466667</td>\n",
       "      <td>130.876344</td>\n",
       "    </tr>\n",
       "  </tbody>\n",
       "</table>\n",
       "<p>5 rows × 264 columns</p>\n",
       "</div>"
      ],
      "text/plain": [
       "  access  accommodates                                          amenities  \\\n",
       "0    NaN             2  {TV,\"Cable TV\",Internet,\"Wireless Internet\",Ki...   \n",
       "1    NaN             2  {TV,\"Cable TV\",Internet,\"Wireless Internet\",Ki...   \n",
       "2    NaN             2  {TV,\"Cable TV\",Internet,\"Wireless Internet\",Ki...   \n",
       "3    NaN             2  {TV,\"Cable TV\",Internet,\"Wireless Internet\",Ki...   \n",
       "4    NaN             2  {TV,\"Cable TV\",Internet,\"Wireless Internet\",Ki...   \n",
       "\n",
       "   availability_30  availability_365  availability_60  availability_90  \\\n",
       "0                5               312               12               42   \n",
       "1                5               312               12               42   \n",
       "2                5               312               12               42   \n",
       "3                5               312               12               42   \n",
       "4                5               312               12               42   \n",
       "\n",
       "   available  bathrooms  bedrooms     ...      proty_Loft  proty_Other  \\\n",
       "0          0        1.0       1.0     ...               0            0   \n",
       "1          0        1.0       1.0     ...               0            0   \n",
       "2          0        1.0       1.0     ...               0            0   \n",
       "3          0        1.0       1.0     ...               0            0   \n",
       "4          0        1.0       1.0     ...               0            0   \n",
       "\n",
       "  proty_Timeshare proty_Townhouse insboo_f  insboo_t avail_365 avail_60  \\\n",
       "0               0               0        1         0  0.854795      0.2   \n",
       "1               0               0        1         0  0.854795      0.2   \n",
       "2               0               0        1         0  0.854795      0.2   \n",
       "3               0               0        1         0  0.854795      0.2   \n",
       "4               0               0        1         0  0.854795      0.2   \n",
       "\n",
       "   avail_90       price  \n",
       "0  0.466667  130.876344  \n",
       "1  0.466667  130.876344  \n",
       "2  0.466667  130.876344  \n",
       "3  0.466667  130.876344  \n",
       "4  0.466667  130.876344  \n",
       "\n",
       "[5 rows x 264 columns]"
      ]
     },
     "execution_count": 65,
     "metadata": {},
     "output_type": "execute_result"
    }
   ],
   "source": [
    "allData.head()"
   ]
  },
  {
   "cell_type": "code",
   "execution_count": 5,
   "metadata": {
    "collapsed": false
   },
   "outputs": [],
   "source": [
    "summery_numeric = allData.describe()"
   ]
  },
  {
   "cell_type": "code",
   "execution_count": 66,
   "metadata": {
    "collapsed": false
   },
   "outputs": [],
   "source": [
    "summery_str = allData.describe(include=['O'])"
   ]
  },
  {
   "cell_type": "code",
   "execution_count": 67,
   "metadata": {
    "collapsed": false
   },
   "outputs": [
    {
     "data": {
      "text/plain": [
       "array(['access', 'amenities', 'calendar_last_scraped', 'calendar_updated',\n",
       "       'city', 'country', 'country_code', 'date', 'description',\n",
       "       'experiences_offered', 'first_review', 'has_availability',\n",
       "       'host_about', 'host_acceptance_rate', 'host_has_profile_pic',\n",
       "       'host_identity_verified', 'host_is_superhost', 'host_location',\n",
       "       'host_name', 'host_neighbourhood', 'host_picture_url',\n",
       "       'host_response_rate', 'host_response_time', 'host_since',\n",
       "       'host_thumbnail_url', 'host_url', 'host_verifications',\n",
       "       'house_rules', 'interaction', 'is_location_exact',\n",
       "       'jurisdiction_names', 'last_review', 'last_scraped', 'license',\n",
       "       'listing_id', 'listing_url', 'market', 'medium_url',\n",
       "       'monthly_price', 'name', 'neighborhood_overview', 'neighbourhood',\n",
       "       'notes', 'picture_url', 'require_guest_phone_verification',\n",
       "       'require_guest_profile_picture', 'requires_license',\n",
       "       'smart_location', 'space', 'state', 'street', 'summary',\n",
       "       'thumbnail_url', 'transit', 'xl_picture_url', 'zipcode'], dtype=object)"
      ]
     },
     "execution_count": 67,
     "metadata": {},
     "output_type": "execute_result"
    }
   ],
   "source": [
    "summery_str.columns.values"
   ]
  },
  {
   "cell_type": "code",
   "execution_count": 68,
   "metadata": {
    "collapsed": false
   },
   "outputs": [
    {
     "data": {
      "text/html": [
       "<div>\n",
       "<table border=\"1\" class=\"dataframe\">\n",
       "  <thead>\n",
       "    <tr style=\"text-align: right;\">\n",
       "      <th></th>\n",
       "      <th>index</th>\n",
       "      <th>0</th>\n",
       "    </tr>\n",
       "  </thead>\n",
       "  <tbody>\n",
       "    <tr>\n",
       "      <th>0</th>\n",
       "      <td>access</td>\n",
       "      <td>54.125609</td>\n",
       "    </tr>\n",
       "    <tr>\n",
       "      <th>1</th>\n",
       "      <td>cleaning_fee</td>\n",
       "      <td>22.568662</td>\n",
       "    </tr>\n",
       "    <tr>\n",
       "      <th>2</th>\n",
       "      <td>first_review</td>\n",
       "      <td>6.861929</td>\n",
       "    </tr>\n",
       "    <tr>\n",
       "      <th>3</th>\n",
       "      <td>has_availability</td>\n",
       "      <td>66.860488</td>\n",
       "    </tr>\n",
       "    <tr>\n",
       "      <th>4</th>\n",
       "      <td>host_about</td>\n",
       "      <td>16.363213</td>\n",
       "    </tr>\n",
       "    <tr>\n",
       "      <th>5</th>\n",
       "      <td>host_acceptance_rate</td>\n",
       "      <td>55.953208</td>\n",
       "    </tr>\n",
       "    <tr>\n",
       "      <th>6</th>\n",
       "      <td>host_response_rate</td>\n",
       "      <td>19.306895</td>\n",
       "    </tr>\n",
       "    <tr>\n",
       "      <th>7</th>\n",
       "      <td>host_response_time</td>\n",
       "      <td>19.306895</td>\n",
       "    </tr>\n",
       "    <tr>\n",
       "      <th>8</th>\n",
       "      <td>house_rules</td>\n",
       "      <td>45.924839</td>\n",
       "    </tr>\n",
       "    <tr>\n",
       "      <th>9</th>\n",
       "      <td>interaction</td>\n",
       "      <td>54.227488</td>\n",
       "    </tr>\n",
       "    <tr>\n",
       "      <th>10</th>\n",
       "      <td>last_review</td>\n",
       "      <td>6.841619</td>\n",
       "    </tr>\n",
       "    <tr>\n",
       "      <th>11</th>\n",
       "      <td>license</td>\n",
       "      <td>73.325384</td>\n",
       "    </tr>\n",
       "    <tr>\n",
       "      <th>12</th>\n",
       "      <td>medium_url</td>\n",
       "      <td>15.736215</td>\n",
       "    </tr>\n",
       "    <tr>\n",
       "      <th>13</th>\n",
       "      <td>monthly_price</td>\n",
       "      <td>60.085369</td>\n",
       "    </tr>\n",
       "    <tr>\n",
       "      <th>14</th>\n",
       "      <td>neighborhood_overview</td>\n",
       "      <td>28.503852</td>\n",
       "    </tr>\n",
       "    <tr>\n",
       "      <th>15</th>\n",
       "      <td>neighbourhood_group_cleansed</td>\n",
       "      <td>100.000000</td>\n",
       "    </tr>\n",
       "    <tr>\n",
       "      <th>16</th>\n",
       "      <td>notes</td>\n",
       "      <td>35.230489</td>\n",
       "    </tr>\n",
       "    <tr>\n",
       "      <th>17</th>\n",
       "      <td>review_scores_accuracy</td>\n",
       "      <td>7.804065</td>\n",
       "    </tr>\n",
       "    <tr>\n",
       "      <th>18</th>\n",
       "      <td>review_scores_checkin</td>\n",
       "      <td>7.804065</td>\n",
       "    </tr>\n",
       "    <tr>\n",
       "      <th>19</th>\n",
       "      <td>review_scores_cleanliness</td>\n",
       "      <td>7.804065</td>\n",
       "    </tr>\n",
       "    <tr>\n",
       "      <th>20</th>\n",
       "      <td>review_scores_communication</td>\n",
       "      <td>7.804065</td>\n",
       "    </tr>\n",
       "    <tr>\n",
       "      <th>21</th>\n",
       "      <td>review_scores_location</td>\n",
       "      <td>7.804065</td>\n",
       "    </tr>\n",
       "    <tr>\n",
       "      <th>22</th>\n",
       "      <td>review_scores_rating</td>\n",
       "      <td>7.804065</td>\n",
       "    </tr>\n",
       "    <tr>\n",
       "      <th>23</th>\n",
       "      <td>review_scores_value</td>\n",
       "      <td>7.804065</td>\n",
       "    </tr>\n",
       "    <tr>\n",
       "      <th>24</th>\n",
       "      <td>reviews_per_month</td>\n",
       "      <td>6.861929</td>\n",
       "    </tr>\n",
       "    <tr>\n",
       "      <th>25</th>\n",
       "      <td>security_deposit</td>\n",
       "      <td>48.132436</td>\n",
       "    </tr>\n",
       "    <tr>\n",
       "      <th>26</th>\n",
       "      <td>space</td>\n",
       "      <td>11.335107</td>\n",
       "    </tr>\n",
       "    <tr>\n",
       "      <th>27</th>\n",
       "      <td>square_feet</td>\n",
       "      <td>94.955186</td>\n",
       "    </tr>\n",
       "    <tr>\n",
       "      <th>28</th>\n",
       "      <td>summary</td>\n",
       "      <td>10.866332</td>\n",
       "    </tr>\n",
       "    <tr>\n",
       "      <th>29</th>\n",
       "      <td>thumbnail_url</td>\n",
       "      <td>15.736215</td>\n",
       "    </tr>\n",
       "    <tr>\n",
       "      <th>30</th>\n",
       "      <td>transit</td>\n",
       "      <td>25.068465</td>\n",
       "    </tr>\n",
       "    <tr>\n",
       "      <th>31</th>\n",
       "      <td>weekly_price</td>\n",
       "      <td>46.571820</td>\n",
       "    </tr>\n",
       "    <tr>\n",
       "      <th>32</th>\n",
       "      <td>xl_picture_url</td>\n",
       "      <td>15.736215</td>\n",
       "    </tr>\n",
       "  </tbody>\n",
       "</table>\n",
       "</div>"
      ],
      "text/plain": [
       "                           index           0\n",
       "0                         access   54.125609\n",
       "1                   cleaning_fee   22.568662\n",
       "2                   first_review    6.861929\n",
       "3               has_availability   66.860488\n",
       "4                     host_about   16.363213\n",
       "5           host_acceptance_rate   55.953208\n",
       "6             host_response_rate   19.306895\n",
       "7             host_response_time   19.306895\n",
       "8                    house_rules   45.924839\n",
       "9                    interaction   54.227488\n",
       "10                   last_review    6.841619\n",
       "11                       license   73.325384\n",
       "12                    medium_url   15.736215\n",
       "13                 monthly_price   60.085369\n",
       "14         neighborhood_overview   28.503852\n",
       "15  neighbourhood_group_cleansed  100.000000\n",
       "16                         notes   35.230489\n",
       "17        review_scores_accuracy    7.804065\n",
       "18         review_scores_checkin    7.804065\n",
       "19     review_scores_cleanliness    7.804065\n",
       "20   review_scores_communication    7.804065\n",
       "21        review_scores_location    7.804065\n",
       "22          review_scores_rating    7.804065\n",
       "23           review_scores_value    7.804065\n",
       "24             reviews_per_month    6.861929\n",
       "25              security_deposit   48.132436\n",
       "26                         space   11.335107\n",
       "27                   square_feet   94.955186\n",
       "28                       summary   10.866332\n",
       "29                 thumbnail_url   15.736215\n",
       "30                       transit   25.068465\n",
       "31                  weekly_price   46.571820\n",
       "32                xl_picture_url   15.736215"
      ]
     },
     "execution_count": 68,
     "metadata": {},
     "output_type": "execute_result"
    }
   ],
   "source": [
    "allData_nan = (allData.isnull().sum() / allData.shape[0]) * 100\n",
    "drop = allData_nan[allData_nan > 5].to_frame().reset_index()\n",
    "drop"
   ]
  },
  {
   "cell_type": "markdown",
   "metadata": {},
   "source": [
    "Create dummies for summary, security_deposit, transit and host_about."
   ]
  },
  {
   "cell_type": "code",
   "execution_count": 69,
   "metadata": {
    "collapsed": false
   },
   "outputs": [],
   "source": [
    "allData['has_summary'] = allData['summary'].isnull().astype(int)\n",
    "allData['has_deposit'] = allData['security_deposit'].isnull().astype(int)\n",
    "allData['has_transit'] = allData['transit'].isnull().astype(int)\n",
    "allData['has_host'] = allData['host_about'].isnull().astype(int)"
   ]
  },
  {
   "cell_type": "markdown",
   "metadata": {},
   "source": [
    "Create variable 'summary_len'."
   ]
  },
  {
   "cell_type": "code",
   "execution_count": 101,
   "metadata": {
    "collapsed": false
   },
   "outputs": [],
   "source": [
    "summary = allData['summary'].tolist()"
   ]
  },
  {
   "cell_type": "code",
   "execution_count": 104,
   "metadata": {
    "collapsed": false
   },
   "outputs": [],
   "source": [
    "allData['summary_len'] = list(map(len, summary))"
   ]
  },
  {
   "cell_type": "code",
   "execution_count": 107,
   "metadata": {
    "collapsed": false
   },
   "outputs": [],
   "source": [
    "allData.at[allData['summary_len']<5, 'summary']=0"
   ]
  },
  {
   "cell_type": "code",
   "execution_count": 108,
   "metadata": {
    "collapsed": false
   },
   "outputs": [],
   "source": [
    "allData.drop(list(drop['index']), axis=1, inplace=True)"
   ]
  },
  {
   "cell_type": "code",
   "execution_count": 109,
   "metadata": {
    "collapsed": true
   },
   "outputs": [],
   "source": [
    "allData = allData.dropna(axis=0, how='any')"
   ]
  },
  {
   "cell_type": "code",
   "execution_count": 110,
   "metadata": {
    "collapsed": false
   },
   "outputs": [
    {
     "data": {
      "text/plain": [
       "(286558, 236)"
      ]
     },
     "execution_count": 110,
     "metadata": {},
     "output_type": "execute_result"
    }
   ],
   "source": [
    "allData.shape"
   ]
  },
  {
   "cell_type": "code",
   "execution_count": 111,
   "metadata": {
    "collapsed": false
   },
   "outputs": [
    {
     "data": {
      "text/plain": [
       "392"
      ]
     },
     "execution_count": 111,
     "metadata": {},
     "output_type": "execute_result"
    }
   ],
   "source": [
    "len(allData.groupby('listing_id').size())"
   ]
  },
  {
   "cell_type": "markdown",
   "metadata": {},
   "source": [
    "283118 observations; 236 columns.\n",
    "\n",
    "This dataset includes 392 Airbnb listings in San Francisco, with their daily availability info from September 2015 to September 2017."
   ]
  },
  {
   "cell_type": "markdown",
   "metadata": {},
   "source": [
    "## Explore some key features"
   ]
  },
  {
   "cell_type": "markdown",
   "metadata": {},
   "source": [
    "### Price"
   ]
  },
  {
   "cell_type": "code",
   "execution_count": 112,
   "metadata": {
    "collapsed": false
   },
   "outputs": [
    {
     "data": {
      "text/plain": [
       "count    286558.000000\n",
       "mean        217.530628\n",
       "std         163.377528\n",
       "min          20.000000\n",
       "25%         125.000000\n",
       "50%         167.721362\n",
       "75%         257.507042\n",
       "max        3000.000000\n",
       "Name: price, dtype: float64"
      ]
     },
     "execution_count": 112,
     "metadata": {},
     "output_type": "execute_result"
    }
   ],
   "source": [
    "allData['price'].describe()"
   ]
  },
  {
   "cell_type": "code",
   "execution_count": 113,
   "metadata": {
    "collapsed": false
   },
   "outputs": [
    {
     "data": {
      "text/plain": [
       "<matplotlib.text.Text at 0x1828e7a4630>"
      ]
     },
     "execution_count": 113,
     "metadata": {},
     "output_type": "execute_result"
    },
    {
     "data": {
      "image/png": "[encoded data removed]",
      "text/plain": [
       "<matplotlib.figure.Figure at 0x1829d58d9b0>"
      ]
     },
     "metadata": {},
     "output_type": "display_data"
    }
   ],
   "source": [
    "n, bins, patches = plt.hist(allData[allData['price']<=1000]['price'], 20)\n",
    "plt.xlabel('Daily Price')"
   ]
  },
  {
   "cell_type": "markdown",
   "metadata": {},
   "source": [
    "A closer look at the 0~400 range."
   ]
  },
  {
   "cell_type": "code",
   "execution_count": 114,
   "metadata": {
    "collapsed": false
   },
   "outputs": [
    {
     "data": {
      "text/plain": [
       "<matplotlib.text.Text at 0x18296618400>"
      ]
     },
     "execution_count": 114,
     "metadata": {},
     "output_type": "execute_result"
    },
    {
     "data": {
      "image/png": "[encoded data removed]",
      "text/plain": [
       "<matplotlib.figure.Figure at 0x18289b7eda0>"
      ]
     },
     "metadata": {},
     "output_type": "display_data"
    }
   ],
   "source": [
    "n, bins, patches = plt.hist(allData[allData['price']<=400]['price'], 20)\n",
    "plt.xlabel('Daily Price')"
   ]
  },
  {
   "cell_type": "markdown",
   "metadata": {},
   "source": [
    "### Availability"
   ]
  },
  {
   "cell_type": "code",
   "execution_count": 17,
   "metadata": {
    "collapsed": false,
    "scrolled": true
   },
   "outputs": [
    {
     "data": {
      "text/plain": [
       "<matplotlib.text.Text at 0x182ca080f60>"
      ]
     },
     "execution_count": 17,
     "metadata": {},
     "output_type": "execute_result"
    },
    {
     "data": {
      "image/png": "[encoded data removed]",
      "text/plain": [
       "<matplotlib.figure.Figure at 0x182a8958400>"
      ]
     },
     "metadata": {},
     "output_type": "display_data"
    }
   ],
   "source": [
    "avail_60 = allData.groupby('listing_id')['avail_60'].mean()\n",
    "n, bins, patches = plt.hist(avail_60, 20)\n",
    "plt.xlabel('Listing availability: % of available days in the next 60 days')"
   ]
  },
  {
   "cell_type": "code",
   "execution_count": 18,
   "metadata": {
    "collapsed": false
   },
   "outputs": [
    {
     "data": {
      "text/plain": [
       "<matplotlib.text.Text at 0x182a78ae9e8>"
      ]
     },
     "execution_count": 18,
     "metadata": {},
     "output_type": "execute_result"
    },
    {
     "data": {
      "image/png": "[encoded data removed]",
      "text/plain": [
       "<matplotlib.figure.Figure at 0x182a8fbeba8>"
      ]
     },
     "metadata": {},
     "output_type": "display_data"
    }
   ],
   "source": [
    "avail_90 = allData.groupby('listing_id')['avail_90'].mean()\n",
    "n, bins, patches = plt.hist(avail_90, 20)\n",
    "plt.xlabel('Listing availability: % of available days in the next 90 days')"
   ]
  },
  {
   "cell_type": "markdown",
   "metadata": {},
   "source": [
    "### Room & Property Type"
   ]
  },
  {
   "cell_type": "code",
   "execution_count": 19,
   "metadata": {
    "collapsed": false
   },
   "outputs": [
    {
     "name": "stderr",
     "output_type": "stream",
     "text": [
      "C:\\Users\\fando\\Anaconda3\\lib\\site-packages\\ipykernel\\__main__.py:3: SettingWithCopyWarning: \n",
      "A value is trying to be set on a copy of a slice from a DataFrame.\n",
      "Try using .loc[row_indexer,col_indexer] = value instead\n",
      "\n",
      "See the caveats in the documentation: http://pandas.pydata.org/pandas-docs/stable/indexing.html#indexing-view-versus-copy\n",
      "  app.launch_new_instance()\n",
      "C:\\Users\\fando\\Anaconda3\\lib\\site-packages\\ipykernel\\__main__.py:6: SettingWithCopyWarning: \n",
      "A value is trying to be set on a copy of a slice from a DataFrame.\n",
      "Try using .loc[row_indexer,col_indexer] = value instead\n",
      "\n",
      "See the caveats in the documentation: http://pandas.pydata.org/pandas-docs/stable/indexing.html#indexing-view-versus-copy\n"
     ]
    }
   ],
   "source": [
    "filter_col = [col for col in allData if col.startswith('room')]\n",
    "sub = allData[filter_col]\n",
    "sub[\"room_type\"] = sub.idxmax(axis=1)\n",
    "filter_col = [col for col in allData if col.startswith('proty')]\n",
    "sub2 = allData[filter_col]\n",
    "sub2[\"proty_type\"] = sub2.idxmax(axis=1)"
   ]
  },
  {
   "cell_type": "code",
   "execution_count": 20,
   "metadata": {
    "collapsed": false
   },
   "outputs": [
    {
     "data": {
      "text/plain": [
       "<matplotlib.text.Text at 0x182898804e0>"
      ]
     },
     "execution_count": 20,
     "metadata": {},
     "output_type": "execute_result"
    },
    {
     "data": {
      "image/png": "[encoded data removed]",
      "text/plain": [
       "<matplotlib.figure.Figure at 0x18289812cf8>"
      ]
     },
     "metadata": {},
     "output_type": "display_data"
    }
   ],
   "source": [
    "sub['room_type'].value_counts().plot(kind='bar')\n",
    "plt.title('Room Type')"
   ]
  },
  {
   "cell_type": "code",
   "execution_count": 21,
   "metadata": {
    "collapsed": false
   },
   "outputs": [
    {
     "data": {
      "text/plain": [
       "<matplotlib.text.Text at 0x18289b32240>"
      ]
     },
     "execution_count": 21,
     "metadata": {},
     "output_type": "execute_result"
    },
    {
     "data": {
      "image/png": "[encoded data removed]",
      "text/plain": [
       "<matplotlib.figure.Figure at 0x182898801d0>"
      ]
     },
     "metadata": {},
     "output_type": "display_data"
    }
   ],
   "source": [
    "sub2['proty_type'].value_counts().plot(kind='bar')\n",
    "plt.title('Property Type')"
   ]
  },
  {
   "cell_type": "markdown",
   "metadata": {},
   "source": [
    "### Cancellation Policy"
   ]
  },
  {
   "cell_type": "code",
   "execution_count": 22,
   "metadata": {
    "collapsed": false,
    "scrolled": true
   },
   "outputs": [
    {
     "name": "stderr",
     "output_type": "stream",
     "text": [
      "C:\\Users\\fando\\Anaconda3\\lib\\site-packages\\ipykernel\\__main__.py:3: SettingWithCopyWarning: \n",
      "A value is trying to be set on a copy of a slice from a DataFrame.\n",
      "Try using .loc[row_indexer,col_indexer] = value instead\n",
      "\n",
      "See the caveats in the documentation: http://pandas.pydata.org/pandas-docs/stable/indexing.html#indexing-view-versus-copy\n",
      "  app.launch_new_instance()\n"
     ]
    }
   ],
   "source": [
    "filter_col = [col for col in allData if col.startswith('cancel')]\n",
    "sub = allData[filter_col]\n",
    "sub[\"cancellation\"] = sub.idxmax(axis=1)"
   ]
  },
  {
   "cell_type": "code",
   "execution_count": 23,
   "metadata": {
    "collapsed": false
   },
   "outputs": [
    {
     "data": {
      "text/plain": [
       "<matplotlib.axes._subplots.AxesSubplot at 0x18289b591d0>"
      ]
     },
     "execution_count": 23,
     "metadata": {},
     "output_type": "execute_result"
    },
    {
     "data": {
      "image/png": "[encoded data removed]",
      "text/plain": [
       "<matplotlib.figure.Figure at 0x18289ba50b8>"
      ]
     },
     "metadata": {},
     "output_type": "display_data"
    }
   ],
   "source": [
    "sub['cancellation'].value_counts().plot(kind='bar')"
   ]
  },
  {
   "cell_type": "markdown",
   "metadata": {},
   "source": [
    "### Amenities"
   ]
  },
  {
   "cell_type": "code",
   "execution_count": 125,
   "metadata": {
    "collapsed": false
   },
   "outputs": [],
   "source": [
    "start = allData.columns.get_loc(\"tv\")\n",
    "end = allData.columns.get_loc(\"cancel_flexible\")\n",
    "amenities = allData.iloc[:, start:end]"
   ]
  },
  {
   "cell_type": "code",
   "execution_count": 126,
   "metadata": {
    "collapsed": false
   },
   "outputs": [],
   "source": [
    "amenities['listing_id'] = allData['listing_id']"
   ]
  },
  {
   "cell_type": "code",
   "execution_count": 127,
   "metadata": {
    "collapsed": false
   },
   "outputs": [],
   "source": [
    "amenities = amenities.drop_duplicates()"
   ]
  },
  {
   "cell_type": "markdown",
   "metadata": {},
   "source": [
    "Most common amenities by listing."
   ]
  },
  {
   "cell_type": "code",
   "execution_count": 128,
   "metadata": {
    "collapsed": false
   },
   "outputs": [
    {
     "data": {
      "text/plain": [
       "listing_id                                  inf\n",
       "internet                               0.397825\n",
       "heating                                0.381773\n",
       "essentials                             0.357694\n",
       "smoke detector                         0.354553\n",
       "kitchen                                0.343735\n",
       "shampoo                                0.322448\n",
       "tv                                     0.314073\n",
       "carbon monoxide detector               0.284061\n",
       "fire extinguisher                      0.275337\n",
       "washer                                 0.274639\n",
       "dryer                                  0.272196\n",
       "first aid kit                          0.224736\n",
       "family/kid friendly                    0.217757\n",
       "hair dryer                             0.217408\n",
       "iron                                   0.207986\n",
       "hangers                                0.201006\n",
       "laptop friendly workspace              0.184605\n",
       "24-hour check-in                       0.146218\n",
       "safety card                            0.123186\n",
       "free parking on premises               0.094571\n",
       "pets live on this property             0.091081\n",
       "buzzer/wireless intercom               0.081310\n",
       "indoor fireplace                       0.080961\n",
       "dog(s)                                 0.058976\n",
       "self check-in                          0.058278\n",
       "breakfast                              0.050601\n",
       "pets allowed                           0.047460\n",
       "hot tub                                0.040480\n",
       "cat(s)                                 0.035944\n",
       "                                         ...   \n",
       "stair gates                            0.002792\n",
       "crib                                   0.002792\n",
       "accessible-height bed                  0.002443\n",
       "long term stays allowed                0.002443\n",
       "babysitter recommendations             0.002094\n",
       "wide doorway                           0.002094\n",
       "changing table                         0.002094\n",
       "wide hallway clearance                 0.002094\n",
       "wide clearance to bed                  0.002094\n",
       "baby bath                              0.001745\n",
       "wide entryway                          0.001745\n",
       "game console                           0.001396\n",
       "accessible-height toilet               0.001047\n",
       "firm mattress                          0.001047\n",
       "baby monitor                           0.001047\n",
       "host greets you                        0.001047\n",
       "table corner guards                    0.001047\n",
       "wide clearance to shower & toilet      0.000698\n",
       "window guards                          0.000698\n",
       "flat smooth pathway to front door      0.000698\n",
       "beach essentials                       0.000698\n",
       "private bathroom                       0.000698\n",
       "disabled parking spot                  0.000698\n",
       "fireplace guards                       0.000698\n",
       "pocket wifi                            0.000698\n",
       "path to entrance lit at night          0.000698\n",
       "doorman entry                          0.000349\n",
       "ground floor access                    0.000349\n",
       "other                                  0.000349\n",
       "fixed grab bars for shower & toilet    0.000349\n",
       "dtype: float64"
      ]
     },
     "execution_count": 128,
     "metadata": {},
     "output_type": "execute_result"
    }
   ],
   "source": [
    "amen_perc = (amenities.sum() / allData.shape[0]) * 100\n",
    "amen_perc.sort_values(inplace=True, ascending=False)\n",
    "amen_perc"
   ]
  },
  {
   "cell_type": "code",
   "execution_count": 129,
   "metadata": {
    "collapsed": false
   },
   "outputs": [],
   "source": [
    "drop = amen_perc[amen_perc < 0.05].to_frame().reset_index()\n",
    "allData.drop(list(drop['index']), axis=1, inplace=True)"
   ]
  },
  {
   "cell_type": "markdown",
   "metadata": {},
   "source": [
    "## Prepare Feature Set and Target Variable"
   ]
  },
  {
   "cell_type": "code",
   "execution_count": 173,
   "metadata": {
    "collapsed": true
   },
   "outputs": [],
   "source": [
    "drop = ['amenities', 'calendar_last_scraped', 'calendar_updated', 'city',\n",
    "       'country', 'country_code', 'description', 'host_location', 'host_name',\n",
    "       'host_picture_url', 'latitude', 'longitude', 'host_neighbourhood',\n",
    "       'host_thumbnail_url', 'host_url', 'host_verifications',\n",
    "       'is_location_exact', 'jurisdiction_names', 'last_scraped',\n",
    "       'listing_id', 'listing_url', 'market', 'name', 'neighbourhood',\n",
    "       'picture_url', 'availability_30', 'availability_365', 'experiences_offered',\n",
    "       'availability_60', 'availability_90', 'available', 'host_id', \n",
    "       'smart_location', 'state', 'street', 'zipcode', 'scrape_id', \n",
    "       'avail_365', 'avail_60', 'avail_90', 'file_index', 'price_y']"
   ]
  },
  {
   "cell_type": "code",
   "execution_count": 174,
   "metadata": {
    "collapsed": false
   },
   "outputs": [],
   "source": [
    "features = allData.drop(drop, axis=1, inplace=False)"
   ]
  },
  {
   "cell_type": "code",
   "execution_count": 175,
   "metadata": {
    "collapsed": false
   },
   "outputs": [],
   "source": [
    "features_str = features.describe(include=['O'])"
   ]
  },
  {
   "cell_type": "code",
   "execution_count": 176,
   "metadata": {
    "collapsed": false
   },
   "outputs": [
    {
     "data": {
      "text/html": [
       "<div>\n",
       "<table border=\"1\" class=\"dataframe\">\n",
       "  <thead>\n",
       "    <tr style=\"text-align: right;\">\n",
       "      <th></th>\n",
       "      <th>date</th>\n",
       "      <th>host_has_profile_pic</th>\n",
       "      <th>host_identity_verified</th>\n",
       "      <th>host_is_superhost</th>\n",
       "      <th>host_since</th>\n",
       "      <th>require_guest_phone_verification</th>\n",
       "      <th>require_guest_profile_picture</th>\n",
       "      <th>requires_license</th>\n",
       "    </tr>\n",
       "  </thead>\n",
       "  <tbody>\n",
       "    <tr>\n",
       "      <th>count</th>\n",
       "      <td>286558</td>\n",
       "      <td>286558</td>\n",
       "      <td>286558</td>\n",
       "      <td>286558</td>\n",
       "      <td>286558</td>\n",
       "      <td>286558</td>\n",
       "      <td>286558</td>\n",
       "      <td>286558</td>\n",
       "    </tr>\n",
       "    <tr>\n",
       "      <th>unique</th>\n",
       "      <td>732</td>\n",
       "      <td>2</td>\n",
       "      <td>2</td>\n",
       "      <td>2</td>\n",
       "      <td>331</td>\n",
       "      <td>2</td>\n",
       "      <td>2</td>\n",
       "      <td>2</td>\n",
       "    </tr>\n",
       "    <tr>\n",
       "      <th>top</th>\n",
       "      <td>2016-11-01</td>\n",
       "      <td>t</td>\n",
       "      <td>t</td>\n",
       "      <td>f</td>\n",
       "      <td>2013-05-12</td>\n",
       "      <td>f</td>\n",
       "      <td>f</td>\n",
       "      <td>t</td>\n",
       "    </tr>\n",
       "    <tr>\n",
       "      <th>freq</th>\n",
       "      <td>769</td>\n",
       "      <td>286497</td>\n",
       "      <td>227934</td>\n",
       "      <td>212025</td>\n",
       "      <td>6606</td>\n",
       "      <td>257962</td>\n",
       "      <td>268981</td>\n",
       "      <td>179513</td>\n",
       "    </tr>\n",
       "  </tbody>\n",
       "</table>\n",
       "</div>"
      ],
      "text/plain": [
       "              date host_has_profile_pic host_identity_verified  \\\n",
       "count       286558               286558                 286558   \n",
       "unique         732                    2                      2   \n",
       "top     2016-11-01                    t                      t   \n",
       "freq           769               286497                 227934   \n",
       "\n",
       "       host_is_superhost  host_since require_guest_phone_verification  \\\n",
       "count             286558      286558                           286558   \n",
       "unique                 2         331                                2   \n",
       "top                    f  2013-05-12                                f   \n",
       "freq              212025        6606                           257962   \n",
       "\n",
       "       require_guest_profile_picture requires_license  \n",
       "count                         286558           286558  \n",
       "unique                             2                2  \n",
       "top                                f                t  \n",
       "freq                          268981           179513  "
      ]
     },
     "execution_count": 176,
     "metadata": {},
     "output_type": "execute_result"
    }
   ],
   "source": [
    "features_str"
   ]
  },
  {
   "cell_type": "code",
   "execution_count": 177,
   "metadata": {
    "collapsed": true
   },
   "outputs": [],
   "source": [
    "features['date'] = pd.to_datetime(features['date'])\n",
    "features['host_since'] = pd.to_datetime(features['host_since'])"
   ]
  },
  {
   "cell_type": "code",
   "execution_count": 178,
   "metadata": {
    "collapsed": false
   },
   "outputs": [],
   "source": [
    "features['host_for'] = (features['date'].dt.year - features['host_since'].dt.year) * 12 + (features['date'].dt.month - features['host_since'].dt.month)"
   ]
  },
  {
   "cell_type": "code",
   "execution_count": 179,
   "metadata": {
    "collapsed": false
   },
   "outputs": [],
   "source": [
    "features['book_month'] = features['date'].dt.month.astype('category')\n",
    "features['book_year'] = features['date'].dt.year.astype('category')"
   ]
  },
  {
   "cell_type": "code",
   "execution_count": 180,
   "metadata": {
    "collapsed": false
   },
   "outputs": [],
   "source": [
    "month = features['date'].dt.month.tolist()\n",
    "year = features['date'].dt.year.tolist()\n",
    "day = features['date'].dt.day.tolist()\n",
    "week = []"
   ]
  },
  {
   "cell_type": "code",
   "execution_count": 181,
   "metadata": {
    "collapsed": false
   },
   "outputs": [],
   "source": [
    "for i in list(range(0, len(year))):\n",
    "    week.append(datetime.date(year[i], month[i], day[i]).isocalendar()[1])"
   ]
  },
  {
   "cell_type": "code",
   "execution_count": 182,
   "metadata": {
    "collapsed": true
   },
   "outputs": [],
   "source": [
    "features['book_week'] = week"
   ]
  },
  {
   "cell_type": "code",
   "execution_count": 183,
   "metadata": {
    "collapsed": false
   },
   "outputs": [],
   "source": [
    "features['host_identity_verified'] = features.host_identity_verified == 'none'\n",
    "features['host_is_superhost'] = features.host_is_superhost == 't'\n",
    "features['require_guest_phone_verification'] = features.require_guest_phone_verification == 't'\n",
    "features['host_has_profile_pic'] = features.host_has_profile_pic == 't'\n",
    "features['require_guest_profile_picture'] = features.require_guest_profile_picture == 't'\n",
    "features['requires_license'] = features.requires_license == 't'"
   ]
  },
  {
   "cell_type": "code",
   "execution_count": 184,
   "metadata": {
    "collapsed": true
   },
   "outputs": [],
   "source": [
    "features = features.drop(['host_since', 'date'], axis=1, inplace=False)"
   ]
  },
  {
   "cell_type": "markdown",
   "metadata": {},
   "source": [
    "What are in our feature set?"
   ]
  },
  {
   "cell_type": "code",
   "execution_count": 185,
   "metadata": {
    "collapsed": false
   },
   "outputs": [
    {
     "data": {
      "text/plain": [
       "array(['accommodates', 'bathrooms', 'bedrooms', 'beds',\n",
       "       'calculated_host_listings_count', 'extra_people', 'guests_included',\n",
       "       'host_has_profile_pic', 'host_identity_verified',\n",
       "       'host_is_superhost', 'host_listings_count',\n",
       "       'host_total_listings_count', 'maximum_nights', 'minimum_nights',\n",
       "       'number_of_reviews', 'require_guest_phone_verification',\n",
       "       'require_guest_profile_picture', 'requires_license', 'tv',\n",
       "       'internet', 'kitchen', 'pets live on this property', 'dog(s)',\n",
       "       'indoor fireplace', 'heating', 'family/kid friendly',\n",
       "       'smoke detector', 'carbon monoxide detector', 'essentials',\n",
       "       'washer', 'dryer', 'buzzer/wireless intercom', 'first aid kit',\n",
       "       'safety card', 'fire extinguisher', 'shampoo',\n",
       "       'free parking on premises', 'breakfast', '24-hour check-in',\n",
       "       'hangers', 'hair dryer', 'iron', 'laptop friendly workspace',\n",
       "       'self check-in', 'cancel_flexible', 'cancel_moderate',\n",
       "       'cancel_strict', 'cancel_super_strict_30', 'cancel_super_strict_60',\n",
       "       'bed_Airbed', 'bed_Couch', 'bed_Futon', 'bed_Pull-out Sofa',\n",
       "       'bed_Real Bed', 'room_Entire home/apt', 'room_Private room',\n",
       "       'room_Shared room', 'neigh_Bayview', 'neigh_Bernal Heights',\n",
       "       'neigh_Castro/Upper Market', 'neigh_Chinatown',\n",
       "       'neigh_Crocker Amazon', 'neigh_Diamond Heights',\n",
       "       'neigh_Downtown/Civic Center', 'neigh_Excelsior',\n",
       "       'neigh_Financial District', 'neigh_Glen Park',\n",
       "       'neigh_Golden Gate Park', 'neigh_Haight Ashbury',\n",
       "       'neigh_Inner Richmond', 'neigh_Inner Sunset', 'neigh_Lakeshore',\n",
       "       'neigh_Marina', 'neigh_Mission', 'neigh_Nob Hill',\n",
       "       'neigh_Noe Valley', 'neigh_North Beach', 'neigh_Ocean View',\n",
       "       'neigh_Outer Mission', 'neigh_Outer Richmond', 'neigh_Outer Sunset',\n",
       "       'neigh_Pacific Heights', 'neigh_Parkside', 'neigh_Potrero Hill',\n",
       "       'neigh_Presidio', 'neigh_Presidio Heights', 'neigh_Russian Hill',\n",
       "       'neigh_Seacliff', 'neigh_South of Market',\n",
       "       'neigh_Treasure Island/YBI', 'neigh_Twin Peaks',\n",
       "       'neigh_Visitacion Valley', 'neigh_West of Twin Peaks',\n",
       "       'neigh_Western Addition', 'proty_Apartment',\n",
       "       'proty_Bed & Breakfast', 'proty_Cabin', 'proty_Camper/RV',\n",
       "       'proty_Cave', 'proty_Condominium', 'proty_Dorm',\n",
       "       'proty_Entire Floor', 'proty_House', 'proty_In-law', 'proty_Loft',\n",
       "       'proty_Other', 'proty_Timeshare', 'proty_Townhouse', 'insboo_f',\n",
       "       'insboo_t', 'price', 'has_summary', 'has_deposit', 'has_transit',\n",
       "       'has_host', 'summary_len', 'host_for', 'book_month', 'book_year',\n",
       "       'book_week'], dtype=object)"
      ]
     },
     "execution_count": 185,
     "metadata": {},
     "output_type": "execute_result"
    }
   ],
   "source": [
    "features.columns.values"
   ]
  },
  {
   "cell_type": "markdown",
   "metadata": {},
   "source": [
    "Get the target variable ready."
   ]
  },
  {
   "cell_type": "code",
   "execution_count": 186,
   "metadata": {
    "collapsed": true
   },
   "outputs": [],
   "source": [
    "target = allData['avail_60']"
   ]
  },
  {
   "cell_type": "code",
   "execution_count": 187,
   "metadata": {
    "collapsed": true
   },
   "outputs": [],
   "source": [
    "features['target'] = target"
   ]
  },
  {
   "cell_type": "code",
   "execution_count": 194,
   "metadata": {
    "collapsed": false
   },
   "outputs": [],
   "source": [
    "test = test.drop(['book_week'], axis=1, inplace=False)"
   ]
  },
  {
   "cell_type": "code",
   "execution_count": 195,
   "metadata": {
    "collapsed": true
   },
   "outputs": [],
   "source": [
    "test = test.drop_duplicates()"
   ]
  },
  {
   "cell_type": "code",
   "execution_count": 188,
   "metadata": {
    "collapsed": true
   },
   "outputs": [],
   "source": [
    "dtype_dict_ready = features.dtypes.apply(lambda x: x.name).to_dict()\n",
    "np.save('dtype_dict_ready.npy', dtype_dict_ready) \n",
    "features.to_csv('allData_ready.txt', index=False, sep=' ', header=True)"
   ]
  }
 ],
 "metadata": {
  "kernelspec": {
   "display_name": "Python 3",
   "language": "python",
   "name": "python3"
  },
  "language_info": {
   "codemirror_mode": {
    "name": "ipython",
    "version": 3
   },
   "file_extension": ".py",
   "mimetype": "text/x-python",
   "name": "python",
   "nbconvert_exporter": "python",
   "pygments_lexer": "ipython3",
   "version": "3.6.0"
  }
 },
 "nbformat": 4,
 "nbformat_minor": 2
}
